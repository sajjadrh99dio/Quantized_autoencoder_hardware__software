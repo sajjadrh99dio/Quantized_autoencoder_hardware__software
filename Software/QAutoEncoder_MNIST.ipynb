{
  "cells": [
    {
      "cell_type": "markdown",
      "source": [
        "# **Quantized Auto-Encoder By Sajjad Roohi**"
      ],
      "metadata": {
        "id": "sKSXZewi7eFX"
      }
    },
    {
      "cell_type": "code",
      "execution_count": null,
      "metadata": {
        "id": "OxNJV3slKON5"
      },
      "outputs": [],
      "source": [
        "import keras\n",
        "from keras import layers\n",
        "from keras.datasets import mnist\n",
        "import numpy as np\n",
        "from qkeras.qlayers import QDense, QActivation\n",
        "from qkeras.quantizers import quantized_bits, quantized_relu\n",
        "import cv2\n",
        "import matplotlib.pyplot as plt\n",
        "import os\n"
      ]
    },
    {
      "cell_type": "code",
      "execution_count": null,
      "metadata": {
        "colab": {
          "base_uri": "https://localhost:8080/"
        },
        "id": "vvPyy8A1Kg2T",
        "outputId": "ddf930ea-b375-47b3-ca96-d191e32d3a31"
      },
      "outputs": [
        {
          "name": "stdout",
          "output_type": "stream",
          "text": [
            "Collecting QKeras\n",
            "  Downloading QKeras-0.9.0-py3-none-any.whl (152 kB)\n",
            "\u001b[2K     \u001b[90m━━━━━━━━━━━━━━━━━━━━━━━━━━━━━━━━━━━━━━━━\u001b[0m \u001b[32m152.8/152.8 kB\u001b[0m \u001b[31m4.5 MB/s\u001b[0m eta \u001b[36m0:00:00\u001b[0m\n",
            "\u001b[?25hRequirement already satisfied: numpy>=1.16.0 in /usr/local/lib/python3.10/dist-packages (from QKeras) (1.23.5)\n",
            "Requirement already satisfied: scipy>=1.4.1 in /usr/local/lib/python3.10/dist-packages (from QKeras) (1.11.3)\n",
            "Collecting pyparser (from QKeras)\n",
            "  Downloading pyparser-1.0.tar.gz (4.0 kB)\n",
            "  Preparing metadata (setup.py) ... \u001b[?25l\u001b[?25hdone\n",
            "Requirement already satisfied: setuptools>=41.0.0 in /usr/local/lib/python3.10/dist-packages (from QKeras) (67.7.2)\n",
            "Collecting tensorflow-model-optimization>=0.2.1 (from QKeras)\n",
            "  Downloading tensorflow_model_optimization-0.7.5-py2.py3-none-any.whl (241 kB)\n",
            "\u001b[2K     \u001b[90m━━━━━━━━━━━━━━━━━━━━━━━━━━━━━━━━━━━━━━━━\u001b[0m \u001b[32m241.2/241.2 kB\u001b[0m \u001b[31m16.4 MB/s\u001b[0m eta \u001b[36m0:00:00\u001b[0m\n",
            "\u001b[?25hRequirement already satisfied: networkx>=2.1 in /usr/local/lib/python3.10/dist-packages (from QKeras) (3.2)\n",
            "Collecting keras-tuner>=1.0.1 (from QKeras)\n",
            "  Downloading keras_tuner-1.4.5-py3-none-any.whl (129 kB)\n",
            "\u001b[2K     \u001b[90m━━━━━━━━━━━━━━━━━━━━━━━━━━━━━━━━━━━━━━━━\u001b[0m \u001b[32m129.5/129.5 kB\u001b[0m \u001b[31m17.2 MB/s\u001b[0m eta \u001b[36m0:00:00\u001b[0m\n",
            "\u001b[?25hRequirement already satisfied: scikit-learn>=0.23.1 in /usr/local/lib/python3.10/dist-packages (from QKeras) (1.2.2)\n",
            "Requirement already satisfied: tqdm>=4.48.0 in /usr/local/lib/python3.10/dist-packages (from QKeras) (4.66.1)\n",
            "Collecting keras-core (from keras-tuner>=1.0.1->QKeras)\n",
            "  Downloading keras_core-0.1.7-py3-none-any.whl (950 kB)\n",
            "\u001b[2K     \u001b[90m━━━━━━━━━━━━━━━━━━━━━━━━━━━━━━━━━━━━━━━━\u001b[0m \u001b[32m950.8/950.8 kB\u001b[0m \u001b[31m51.2 MB/s\u001b[0m eta \u001b[36m0:00:00\u001b[0m\n",
            "\u001b[?25hRequirement already satisfied: packaging in /usr/local/lib/python3.10/dist-packages (from keras-tuner>=1.0.1->QKeras) (23.2)\n",
            "Requirement already satisfied: requests in /usr/local/lib/python3.10/dist-packages (from keras-tuner>=1.0.1->QKeras) (2.31.0)\n",
            "Collecting kt-legacy (from keras-tuner>=1.0.1->QKeras)\n",
            "  Downloading kt_legacy-1.0.5-py3-none-any.whl (9.6 kB)\n",
            "Requirement already satisfied: joblib>=1.1.1 in /usr/local/lib/python3.10/dist-packages (from scikit-learn>=0.23.1->QKeras) (1.3.2)\n",
            "Requirement already satisfied: threadpoolctl>=2.0.0 in /usr/local/lib/python3.10/dist-packages (from scikit-learn>=0.23.1->QKeras) (3.2.0)\n",
            "Requirement already satisfied: absl-py~=1.2 in /usr/local/lib/python3.10/dist-packages (from tensorflow-model-optimization>=0.2.1->QKeras) (1.4.0)\n",
            "Requirement already satisfied: dm-tree~=0.1.1 in /usr/local/lib/python3.10/dist-packages (from tensorflow-model-optimization>=0.2.1->QKeras) (0.1.8)\n",
            "Requirement already satisfied: six~=1.14 in /usr/local/lib/python3.10/dist-packages (from tensorflow-model-optimization>=0.2.1->QKeras) (1.16.0)\n",
            "Collecting parse==1.6.5 (from pyparser->QKeras)\n",
            "  Downloading parse-1.6.5.tar.gz (24 kB)\n",
            "  Preparing metadata (setup.py) ... \u001b[?25l\u001b[?25hdone\n",
            "Requirement already satisfied: rich in /usr/local/lib/python3.10/dist-packages (from keras-core->keras-tuner>=1.0.1->QKeras) (13.6.0)\n",
            "Collecting namex (from keras-core->keras-tuner>=1.0.1->QKeras)\n",
            "  Downloading namex-0.0.7-py3-none-any.whl (5.8 kB)\n",
            "Requirement already satisfied: h5py in /usr/local/lib/python3.10/dist-packages (from keras-core->keras-tuner>=1.0.1->QKeras) (3.9.0)\n",
            "Requirement already satisfied: charset-normalizer<4,>=2 in /usr/local/lib/python3.10/dist-packages (from requests->keras-tuner>=1.0.1->QKeras) (3.3.0)\n",
            "Requirement already satisfied: idna<4,>=2.5 in /usr/local/lib/python3.10/dist-packages (from requests->keras-tuner>=1.0.1->QKeras) (3.4)\n",
            "Requirement already satisfied: urllib3<3,>=1.21.1 in /usr/local/lib/python3.10/dist-packages (from requests->keras-tuner>=1.0.1->QKeras) (2.0.7)\n",
            "Requirement already satisfied: certifi>=2017.4.17 in /usr/local/lib/python3.10/dist-packages (from requests->keras-tuner>=1.0.1->QKeras) (2023.7.22)\n",
            "Requirement already satisfied: markdown-it-py>=2.2.0 in /usr/local/lib/python3.10/dist-packages (from rich->keras-core->keras-tuner>=1.0.1->QKeras) (3.0.0)\n",
            "Requirement already satisfied: pygments<3.0.0,>=2.13.0 in /usr/local/lib/python3.10/dist-packages (from rich->keras-core->keras-tuner>=1.0.1->QKeras) (2.16.1)\n",
            "Requirement already satisfied: mdurl~=0.1 in /usr/local/lib/python3.10/dist-packages (from markdown-it-py>=2.2.0->rich->keras-core->keras-tuner>=1.0.1->QKeras) (0.1.2)\n",
            "Building wheels for collected packages: pyparser, parse\n",
            "  Building wheel for pyparser (setup.py) ... \u001b[?25l\u001b[?25hdone\n",
            "  Created wheel for pyparser: filename=pyparser-1.0-py3-none-any.whl size=4913 sha256=e8d75d19afe63b54697df936d057e1b9fbc3a961fa5da6c0b4962c49d940d5b0\n",
            "  Stored in directory: /root/.cache/pip/wheels/25/87/78/ff95e8a747dc534fbd199fb3ea06d80935bc87e44567bbdb31\n",
            "  Building wheel for parse (setup.py) ... \u001b[?25l\u001b[?25hdone\n",
            "  Created wheel for parse: filename=parse-1.6.5-py3-none-any.whl size=18154 sha256=a78deba0b958eecf42ddafa98b1fb9c3f43613456070c2b562f03c56b2bf5f2b\n",
            "  Stored in directory: /root/.cache/pip/wheels/3f/10/c8/5023ea72290855ee33e7bc403e1048ae238b9c2fdb549a9f51\n",
            "Successfully built pyparser parse\n",
            "Installing collected packages: parse, namex, kt-legacy, tensorflow-model-optimization, pyparser, keras-core, keras-tuner, QKeras\n",
            "Successfully installed QKeras-0.9.0 keras-core-0.1.7 keras-tuner-1.4.5 kt-legacy-1.0.5 namex-0.0.7 parse-1.6.5 pyparser-1.0 tensorflow-model-optimization-0.7.5\n"
          ]
        }
      ],
      "source": [
        "!pip install QKeras"
      ]
    },
    {
      "cell_type": "code",
      "execution_count": null,
      "metadata": {
        "id": "RxGB_USzBOD3"
      },
      "outputs": [],
      "source": [
        "import numpy as np"
      ]
    },
    {
      "cell_type": "markdown",
      "metadata": {
        "id": "eu5nlJ12KON9"
      },
      "source": [
        "# **Utils**"
      ]
    },
    {
      "cell_type": "code",
      "execution_count": null,
      "metadata": {
        "id": "58Urtyg7KON9"
      },
      "outputs": [],
      "source": [
        "def fp_quantize(x, w, f):\n",
        "    \"\"\"\n",
        "    fixed point post quantization.\n",
        "    Args:\n",
        "        x: floating point (can be list) 32 bit input\n",
        "        w: bit width of the target fixed point\n",
        "        f: fraction bit width of the target fixed point\n",
        "    Returns:\n",
        "        the desired fixed point quantized of the input x\n",
        "    \"\"\"\n",
        "    i = w - f\n",
        "    max = float(2 ** (i - 1) - 2 ** (-f))\n",
        "    min = float(-2 ** (i - 1))\n",
        "    n = float(2 ** f)\n",
        "    xx = np.floor(x * n + 0.5) / n\n",
        "    clipped = np.clip(xx, a_min=min, a_max=max)\n",
        "    return clipped"
      ]
    },
    {
      "cell_type": "code",
      "execution_count": null,
      "metadata": {
        "colab": {
          "base_uri": "https://localhost:8080/"
        },
        "id": "R_iW2ZWDA9KN",
        "outputId": "eefe5745-aa4a-4e06-8663-78ddbac40f80"
      },
      "outputs": [
        {
          "data": {
            "text/plain": [
              "0.234375"
            ]
          },
          "execution_count": 9,
          "metadata": {},
          "output_type": "execute_result"
        }
      ],
      "source": [
        "fp_quantize(.2340654, 9, 7)"
      ]
    },
    {
      "cell_type": "code",
      "execution_count": null,
      "metadata": {
        "id": "9Y-t_I-OKON-"
      },
      "outputs": [],
      "source": [
        "def FPToHex(x, w = 8, f = 7):\n",
        "    \"\"\"\n",
        "    Converts a given Fixed point number to its Hex representation.\n",
        "    Args:\n",
        "        x: fixed point having w bits and f bits fraction input\n",
        "        w: bit width of the input\n",
        "        f: fraction bit width of the input\n",
        "    Returns:\n",
        "        Hex representation of input\n",
        "    \"\"\"\n",
        "    x_fix = x\n",
        "    x_fix = x_fix * pow(2, f)\n",
        "    x_fix = int(x_fix)\n",
        "    if(x_fix < 0):\n",
        "        binary = bin(x_fix+(1<<w))\n",
        "    else:\n",
        "        binary = bin(x_fix)\n",
        "    return hex(int(binary, 2))[2:]\n",
        "\n",
        "def WriteFixPToFile(file_name, data_fp, w = 8, f = 7, mode = \"w\"):\n",
        "    \"\"\"\n",
        "    Writes given Fixed point numbers specified by w bits width and f bits fraction to the given file name.\n",
        "    Args:\n",
        "        file_name: file name to save the output\n",
        "        data_fp: fixed point list having w bits and f bits fraction input\n",
        "        w: bit width of the input\n",
        "        f: fraction bit width of the input\n",
        "    Returns:\n",
        "        None\n",
        "    \"\"\"\n",
        "    with open(file_name, mode) as file:\n",
        "        for i in range(data_fp.shape[0]):\n",
        "            file.write(str(FPToHex(data_fp[i], w=w, f=f))+'\\n')"
      ]
    },
    {
      "cell_type": "markdown",
      "metadata": {
        "id": "qBVOiI7kKOOA"
      },
      "source": [
        "Use below function if needed (like verifying outputs or debugging)."
      ]
    },
    {
      "cell_type": "code",
      "execution_count": null,
      "metadata": {
        "id": "sUq3LpudKOOB"
      },
      "outputs": [],
      "source": [
        "def twos_complement(bin_num):\n",
        "    \"\"\"\n",
        "    calculates the 2's complement of the given binary number.\n",
        "    Args:\n",
        "        bin_num: binary number in string format\n",
        "    Returns:\n",
        "        the binary representation after performing 2's complement\n",
        "    \"\"\"\n",
        "\n",
        "    # Perform 2's complement on the binary number\n",
        "    flipped = ''\n",
        "    for bit in bin_num:\n",
        "        flipped += '0' if bit == '1' else '1'\n",
        "    comp_num = int(flipped, 2) + 1\n",
        "\n",
        "    return bin(comp_num)[2:].zfill(len(bin_num))\n",
        "\n",
        "def fixed_point_to_float(bin_num, w=16, f=14):\n",
        "    \"\"\"\n",
        "    Converts a fixed point number given in binary representation to its decimal floating point.\n",
        "    Args:\n",
        "        bin_num: binary number in string format\n",
        "        w: bit width of the input\n",
        "        f: fraction bit width of the input\n",
        "    Returns:\n",
        "        decimal floating point\n",
        "    \"\"\"\n",
        "        # Check if the number is negative\n",
        "    sign_bit = int(bin_num[0])\n",
        "    if sign_bit:\n",
        "        bin_num = twos_complement(bin_num, w, f)\n",
        "\n",
        "    # Split the binary number into integer and fractional parts\n",
        "    if f > 0:\n",
        "        if f == w:\n",
        "            float_num = int(bin_num, 2) / 2**f\n",
        "        else:\n",
        "            int_part = int(bin_num[:-f], 2)\n",
        "            frac_part = int(bin_num[-f:], 2) / 2**f\n",
        "            float_num = int_part + frac_part\n",
        "    else:\n",
        "        int_part = int(bin_num, 2)\n",
        "        float_num = int_part\n",
        "\n",
        "    # Apply the sign to the floating point number if it was negative\n",
        "    if sign_bit:\n",
        "        float_num = -float_num\n",
        "\n",
        "    return float_num\n",
        "\n",
        "def hex_to_fixed_point_decimal(hex_value, w, f):\n",
        "    \"\"\"\n",
        "    Converts a fixed point number given in hex representation to its decimal floating point.\n",
        "    Args:\n",
        "        hex_value: hex number in string format\n",
        "        w: bit width of the input\n",
        "        f: fraction bit width of the input\n",
        "    Returns:\n",
        "        decimal floating point\n",
        "    \"\"\"\n",
        "    binary_value = bin(int(hex_value, 16))[2:]\n",
        "\n",
        "    # # Determine the sign bit\n",
        "    binary_value = binary_value.zfill(w)\n",
        "\n",
        "    # return decimal_value\n",
        "    return fixed_point_to_float(binary_value, w, f)"
      ]
    },
    {
      "cell_type": "markdown",
      "metadata": {
        "id": "ZTRI9Da1KOOB"
      },
      "source": [
        "# **Data Preparation**"
      ]
    },
    {
      "cell_type": "markdown",
      "metadata": {
        "id": "Pkmu4pugKOOC"
      },
      "source": [
        "load and normalize data images:"
      ]
    },
    {
      "cell_type": "code",
      "execution_count": null,
      "metadata": {
        "colab": {
          "base_uri": "https://localhost:8080/"
        },
        "id": "qjwwG84wKOOC",
        "outputId": "1b16b174-9839-48b3-a28e-46867eee0405"
      },
      "outputs": [
        {
          "name": "stdout",
          "output_type": "stream",
          "text": [
            "Downloading data from https://storage.googleapis.com/tensorflow/tf-keras-datasets/mnist.npz\n",
            "11490434/11490434 [==============================] - 0s 0us/step\n"
          ]
        }
      ],
      "source": [
        "(x_train, _), (x_test, _) = mnist.load_data()\n",
        "x_train = x_train.astype('float32') / 255.\n",
        "x_test = x_test.astype('float32') / 255."
      ]
    },
    {
      "cell_type": "code",
      "execution_count": null,
      "metadata": {
        "colab": {
          "base_uri": "https://localhost:8080/"
        },
        "id": "7oGsHVz9UDmR",
        "outputId": "112c1fa1-e130-43ea-a245-a2e6da81a990"
      },
      "outputs": [
        {
          "name": "stdout",
          "output_type": "stream",
          "text": [
            "(60000, 784)\n",
            "(10000, 784)\n"
          ]
        }
      ],
      "source": [
        "print(x_train.shape)\n",
        "print(x_test.shape)"
      ]
    },
    {
      "cell_type": "markdown",
      "metadata": {
        "id": "uRhB3sJgKOOD"
      },
      "source": [
        "display images:"
      ]
    },
    {
      "cell_type": "code",
      "execution_count": null,
      "metadata": {
        "colab": {
          "base_uri": "https://localhost:8080/",
          "height": 118
        },
        "id": "OVU_S5StKOOE",
        "outputId": "6c3e2e15-e8e2-435b-a477-ec761eef2d7a"
      },
      "outputs": [
        {
          "data": {
            "image/png": "[encoded data removed]",
            "text/plain": [
              "<Figure size 400x400 with 4 Axes>"
            ]
          },
          "metadata": {},
          "output_type": "display_data"
        }
      ],
      "source": [
        "plt.figure(figsize=(4, 4))\n",
        "for i in range(4):\n",
        "    plt.subplot(2, 4, i + 1)\n",
        "    plt.imshow(x_test[i], cmap='gray')\n",
        "    plt.axis('off')\n",
        "\n",
        "plt.tight_layout()\n",
        "plt.show()"
      ]
    },
    {
      "cell_type": "markdown",
      "metadata": {
        "id": "BDbyjgzKKOOE"
      },
      "source": [
        "network constants:"
      ]
    },
    {
      "cell_type": "code",
      "execution_count": null,
      "metadata": {
        "id": "j6QnUZD1KOOE"
      },
      "outputs": [],
      "source": [
        "LATENT_SAPCE_DIM = 32\n",
        "LATENT_SPACE_WIDTH = 4\n",
        "LATENT_SAPCE_HEIGHT = 8"
      ]
    },
    {
      "cell_type": "markdown",
      "metadata": {
        "id": "SmAdfCRSKOOF"
      },
      "source": [
        "reshape images to one dimensional shape:"
      ]
    },
    {
      "cell_type": "code",
      "execution_count": null,
      "metadata": {
        "colab": {
          "base_uri": "https://localhost:8080/"
        },
        "id": "0RJK7s8YKOOF",
        "outputId": "4d28cfdc-d5f4-4e06-8d21-ba2ad4f651b0"
      },
      "outputs": [
        {
          "name": "stdout",
          "output_type": "stream",
          "text": [
            "(60000, 784)\n",
            "(10000, 784)\n"
          ]
        }
      ],
      "source": [
        "x_train = x_train.reshape((len(x_train), np.prod(x_train.shape[1:])))\n",
        "x_test = x_test.reshape((len(x_test), np.prod(x_test.shape[1:])))\n",
        "print(x_train.shape)\n",
        "print(x_test.shape)"
      ]
    },
    {
      "cell_type": "markdown",
      "metadata": {
        "id": "TQNdMkpdKOOF"
      },
      "source": [
        "# **Training**"
      ]
    },
    {
      "cell_type": "markdown",
      "metadata": {
        "id": "Slx2_s0GKOOF"
      },
      "source": [
        "define the autoencoder model:"
      ]
    },
    {
      "cell_type": "code",
      "execution_count": null,
      "metadata": {
        "id": "E-bSxTZ2KOOG"
      },
      "outputs": [],
      "source": [
        "input_img = keras.Input(shape=(x_train.shape[1],))\n",
        "encoded = layers.Dense(128, activation='relu')(input_img)\n",
        "encoded = layers.Dense(64, activation='relu')(encoded)\n",
        "encoded = layers.Dense(LATENT_SAPCE_DIM, activation='relu')(encoded)\n",
        "\n",
        "decoded = layers.Dense(64, activation='relu')(encoded)\n",
        "decoded = layers.Dense(128, activation='relu')(decoded)\n",
        "decoded = layers.Dense(x_train.shape[1], activation='sigmoid')(decoded)\n",
        "autoencoder = keras.Model(input_img, decoded)"
      ]
    },
    {
      "cell_type": "code",
      "execution_count": null,
      "metadata": {
        "colab": {
          "base_uri": "https://localhost:8080/"
        },
        "id": "_8Uzc_u4KOOG",
        "outputId": "bdaa2c3b-0a02-4463-8a97-fcd5b3d65d4e"
      },
      "outputs": [
        {
          "name": "stdout",
          "output_type": "stream",
          "text": [
            "Model: \"model\"\n",
            "_________________________________________________________________\n",
            " Layer (type)                Output Shape              Param #   \n",
            "=================================================================\n",
            " input_1 (InputLayer)        [(None, 784)]             0         \n",
            "                                                                 \n",
            " dense (Dense)               (None, 128)               100480    \n",
            "                                                                 \n",
            " dense_1 (Dense)             (None, 64)                8256      \n",
            "                                                                 \n",
            " dense_2 (Dense)             (None, 32)                2080      \n",
            "                                                                 \n",
            " dense_3 (Dense)             (None, 64)                2112      \n",
            "                                                                 \n",
            " dense_4 (Dense)             (None, 128)               8320      \n",
            "                                                                 \n",
            " dense_5 (Dense)             (None, 784)               101136    \n",
            "                                                                 \n",
            "=================================================================\n",
            "Total params: 222384 (868.69 KB)\n",
            "Trainable params: 222384 (868.69 KB)\n",
            "Non-trainable params: 0 (0.00 Byte)\n",
            "_________________________________________________________________\n"
          ]
        }
      ],
      "source": [
        "autoencoder.summary()"
      ]
    },
    {
      "cell_type": "markdown",
      "metadata": {
        "id": "21uo9PzxKOOG"
      },
      "source": [
        "define encoder:"
      ]
    },
    {
      "cell_type": "code",
      "execution_count": null,
      "metadata": {
        "id": "VJ3rNEgmKOOH"
      },
      "outputs": [],
      "source": [
        "encoder = keras.Model(input_img, encoded)"
      ]
    },
    {
      "cell_type": "markdown",
      "metadata": {
        "id": "rAwGHhJ4KOOH"
      },
      "source": [
        "define decoder:"
      ]
    },
    {
      "cell_type": "code",
      "execution_count": null,
      "metadata": {
        "id": "e_k5xkdrKOOH"
      },
      "outputs": [],
      "source": [
        "encoded_input = keras.Input(shape=(LATENT_SAPCE_DIM,))\n",
        "# Retrieve the last layer of the autoencoder model\n",
        "decoder_layer = autoencoder.layers[-3](encoded_input)\n",
        "decoder_layer = autoencoder.layers[-2](decoder_layer)\n",
        "decoder_layer = autoencoder.layers[-1](decoder_layer)\n",
        "# Create the decoder model\n",
        "decoder = keras.Model(encoded_input, decoder_layer)"
      ]
    },
    {
      "cell_type": "markdown",
      "metadata": {
        "id": "Y5NWraMSKOOH"
      },
      "source": [
        "train the model:"
      ]
    },
    {
      "cell_type": "code",
      "execution_count": null,
      "metadata": {
        "colab": {
          "base_uri": "https://localhost:8080/"
        },
        "id": "24cWbjWwKOOI",
        "outputId": "cba0b386-ac76-4976-c0a3-9c53ebdad299"
      },
      "outputs": [
        {
          "name": "stdout",
          "output_type": "stream",
          "text": [
            "Epoch 1/100\n",
            "235/235 [==============================] - 3s 6ms/step - loss: 0.2416 - val_loss: 0.1619\n",
            "Epoch 2/100\n",
            "235/235 [==============================] - 1s 5ms/step - loss: 0.1455 - val_loss: 0.1315\n",
            "Epoch 3/100\n",
            "235/235 [==============================] - 1s 5ms/step - loss: 0.1276 - val_loss: 0.1218\n",
            "Epoch 4/100\n",
            "235/235 [==============================] - 2s 7ms/step - loss: 0.1191 - val_loss: 0.1142\n",
            "Epoch 5/100\n",
            "235/235 [==============================] - 2s 9ms/step - loss: 0.1134 - val_loss: 0.1098\n",
            "Epoch 6/100\n",
            "235/235 [==============================] - 2s 9ms/step - loss: 0.1093 - val_loss: 0.1059\n",
            "Epoch 7/100\n",
            "235/235 [==============================] - 2s 7ms/step - loss: 0.1056 - val_loss: 0.1030\n",
            "Epoch 8/100\n",
            "235/235 [==============================] - 1s 6ms/step - loss: 0.1028 - val_loss: 0.1010\n",
            "Epoch 9/100\n",
            "235/235 [==============================] - 1s 5ms/step - loss: 0.1007 - val_loss: 0.0991\n",
            "Epoch 10/100\n",
            "235/235 [==============================] - 1s 5ms/step - loss: 0.0990 - val_loss: 0.0971\n",
            "Epoch 11/100\n",
            "235/235 [==============================] - 1s 5ms/step - loss: 0.0976 - val_loss: 0.0957\n",
            "Epoch 12/100\n",
            "235/235 [==============================] - 1s 5ms/step - loss: 0.0963 - val_loss: 0.0947\n",
            "Epoch 13/100\n",
            "235/235 [==============================] - 2s 7ms/step - loss: 0.0953 - val_loss: 0.0944\n",
            "Epoch 14/100\n",
            "235/235 [==============================] - 2s 7ms/step - loss: 0.0942 - val_loss: 0.0932\n",
            "Epoch 15/100\n",
            "235/235 [==============================] - 1s 5ms/step - loss: 0.0933 - val_loss: 0.0924\n",
            "Epoch 16/100\n",
            "235/235 [==============================] - 1s 5ms/step - loss: 0.0926 - val_loss: 0.0914\n",
            "Epoch 17/100\n",
            "235/235 [==============================] - 1s 5ms/step - loss: 0.0919 - val_loss: 0.0908\n",
            "Epoch 18/100\n",
            "235/235 [==============================] - 2s 7ms/step - loss: 0.0912 - val_loss: 0.0905\n",
            "Epoch 19/100\n",
            "235/235 [==============================] - 1s 5ms/step - loss: 0.0908 - val_loss: 0.0897\n",
            "Epoch 20/100\n",
            "235/235 [==============================] - 1s 5ms/step - loss: 0.0903 - val_loss: 0.0892\n",
            "Epoch 21/100\n",
            "235/235 [==============================] - 1s 5ms/step - loss: 0.0898 - val_loss: 0.0889\n",
            "Epoch 22/100\n",
            "235/235 [==============================] - 2s 6ms/step - loss: 0.0894 - val_loss: 0.0885\n",
            "Epoch 23/100\n",
            "235/235 [==============================] - 3s 13ms/step - loss: 0.0890 - val_loss: 0.0882\n",
            "Epoch 24/100\n",
            "235/235 [==============================] - 2s 7ms/step - loss: 0.0886 - val_loss: 0.0880\n",
            "Epoch 25/100\n",
            "235/235 [==============================] - 1s 6ms/step - loss: 0.0884 - val_loss: 0.0873\n",
            "Epoch 26/100\n",
            "235/235 [==============================] - 1s 5ms/step - loss: 0.0880 - val_loss: 0.0872\n",
            "Epoch 27/100\n",
            "235/235 [==============================] - 1s 5ms/step - loss: 0.0878 - val_loss: 0.0868\n",
            "Epoch 28/100\n",
            "235/235 [==============================] - 1s 5ms/step - loss: 0.0874 - val_loss: 0.0867\n",
            "Epoch 29/100\n",
            "235/235 [==============================] - 1s 5ms/step - loss: 0.0872 - val_loss: 0.0863\n",
            "Epoch 30/100\n",
            "235/235 [==============================] - 1s 5ms/step - loss: 0.0869 - val_loss: 0.0862\n",
            "Epoch 31/100\n",
            "235/235 [==============================] - 1s 5ms/step - loss: 0.0867 - val_loss: 0.0859\n",
            "Epoch 32/100\n",
            "235/235 [==============================] - 2s 7ms/step - loss: 0.0866 - val_loss: 0.0860\n",
            "Epoch 33/100\n",
            "235/235 [==============================] - 2s 9ms/step - loss: 0.0864 - val_loss: 0.0863\n",
            "Epoch 34/100\n",
            "235/235 [==============================] - 2s 8ms/step - loss: 0.0862 - val_loss: 0.0856\n",
            "Epoch 35/100\n",
            "235/235 [==============================] - 1s 6ms/step - loss: 0.0860 - val_loss: 0.0856\n",
            "Epoch 36/100\n",
            "235/235 [==============================] - 1s 5ms/step - loss: 0.0859 - val_loss: 0.0854\n",
            "Epoch 37/100\n",
            "235/235 [==============================] - 1s 5ms/step - loss: 0.0857 - val_loss: 0.0851\n",
            "Epoch 38/100\n",
            "235/235 [==============================] - 1s 5ms/step - loss: 0.0856 - val_loss: 0.0847\n",
            "Epoch 39/100\n",
            "235/235 [==============================] - 1s 5ms/step - loss: 0.0854 - val_loss: 0.0848\n",
            "Epoch 40/100\n",
            "235/235 [==============================] - 1s 5ms/step - loss: 0.0852 - val_loss: 0.0845\n",
            "Epoch 41/100\n",
            "235/235 [==============================] - 2s 7ms/step - loss: 0.0851 - val_loss: 0.0848\n",
            "Epoch 42/100\n",
            "235/235 [==============================] - 2s 8ms/step - loss: 0.0850 - val_loss: 0.0848\n",
            "Epoch 43/100\n",
            "235/235 [==============================] - 1s 5ms/step - loss: 0.0849 - val_loss: 0.0845\n",
            "Epoch 44/100\n",
            "235/235 [==============================] - 1s 5ms/step - loss: 0.0847 - val_loss: 0.0843\n",
            "Epoch 45/100\n",
            "235/235 [==============================] - 1s 5ms/step - loss: 0.0846 - val_loss: 0.0839\n",
            "Epoch 46/100\n",
            "235/235 [==============================] - 1s 5ms/step - loss: 0.0845 - val_loss: 0.0841\n",
            "Epoch 47/100\n",
            "235/235 [==============================] - 1s 5ms/step - loss: 0.0844 - val_loss: 0.0839\n",
            "Epoch 48/100\n",
            "235/235 [==============================] - 1s 5ms/step - loss: 0.0843 - val_loss: 0.0839\n",
            "Epoch 49/100\n",
            "235/235 [==============================] - 1s 5ms/step - loss: 0.0841 - val_loss: 0.0842\n",
            "Epoch 50/100\n",
            "235/235 [==============================] - 1s 5ms/step - loss: 0.0841 - val_loss: 0.0837\n",
            "Epoch 51/100\n",
            "235/235 [==============================] - 2s 7ms/step - loss: 0.0840 - val_loss: 0.0839\n",
            "Epoch 52/100\n",
            "235/235 [==============================] - 2s 7ms/step - loss: 0.0838 - val_loss: 0.0833\n",
            "Epoch 53/100\n",
            "235/235 [==============================] - 1s 5ms/step - loss: 0.0837 - val_loss: 0.0835\n",
            "Epoch 54/100\n",
            "235/235 [==============================] - 1s 5ms/step - loss: 0.0837 - val_loss: 0.0835\n",
            "Epoch 55/100\n",
            "235/235 [==============================] - 1s 5ms/step - loss: 0.0836 - val_loss: 0.0832\n",
            "Epoch 56/100\n",
            "235/235 [==============================] - 1s 5ms/step - loss: 0.0835 - val_loss: 0.0833\n",
            "Epoch 57/100\n",
            "235/235 [==============================] - 1s 5ms/step - loss: 0.0834 - val_loss: 0.0829\n",
            "Epoch 58/100\n",
            "235/235 [==============================] - 1s 5ms/step - loss: 0.0833 - val_loss: 0.0829\n",
            "Epoch 59/100\n",
            "235/235 [==============================] - 1s 5ms/step - loss: 0.0833 - val_loss: 0.0830\n",
            "Epoch 60/100\n",
            "235/235 [==============================] - 2s 7ms/step - loss: 0.0832 - val_loss: 0.0829\n",
            "Epoch 61/100\n",
            "235/235 [==============================] - 2s 8ms/step - loss: 0.0831 - val_loss: 0.0829\n",
            "Epoch 62/100\n",
            "235/235 [==============================] - 2s 7ms/step - loss: 0.0831 - val_loss: 0.0827\n",
            "Epoch 63/100\n",
            "235/235 [==============================] - 1s 5ms/step - loss: 0.0830 - val_loss: 0.0828\n",
            "Epoch 64/100\n",
            "235/235 [==============================] - 1s 5ms/step - loss: 0.0830 - val_loss: 0.0824\n",
            "Epoch 65/100\n",
            "235/235 [==============================] - 1s 5ms/step - loss: 0.0829 - val_loss: 0.0826\n",
            "Epoch 66/100\n",
            "235/235 [==============================] - 1s 5ms/step - loss: 0.0828 - val_loss: 0.0824\n",
            "Epoch 67/100\n",
            "235/235 [==============================] - 1s 5ms/step - loss: 0.0827 - val_loss: 0.0824\n",
            "Epoch 68/100\n",
            "235/235 [==============================] - 1s 5ms/step - loss: 0.0827 - val_loss: 0.0826\n",
            "Epoch 69/100\n",
            "235/235 [==============================] - 1s 5ms/step - loss: 0.0826 - val_loss: 0.0826\n",
            "Epoch 70/100\n",
            "235/235 [==============================] - 1s 5ms/step - loss: 0.0826 - val_loss: 0.0824\n",
            "Epoch 71/100\n",
            "235/235 [==============================] - 2s 7ms/step - loss: 0.0825 - val_loss: 0.0825\n",
            "Epoch 72/100\n",
            "235/235 [==============================] - 2s 7ms/step - loss: 0.0825 - val_loss: 0.0822\n",
            "Epoch 73/100\n",
            "235/235 [==============================] - 1s 5ms/step - loss: 0.0824 - val_loss: 0.0820\n",
            "Epoch 74/100\n",
            "235/235 [==============================] - 1s 5ms/step - loss: 0.0824 - val_loss: 0.0822\n",
            "Epoch 75/100\n",
            "235/235 [==============================] - 1s 5ms/step - loss: 0.0823 - val_loss: 0.0821\n",
            "Epoch 76/100\n",
            "235/235 [==============================] - 1s 5ms/step - loss: 0.0823 - val_loss: 0.0820\n",
            "Epoch 77/100\n",
            "235/235 [==============================] - 1s 5ms/step - loss: 0.0823 - val_loss: 0.0818\n",
            "Epoch 78/100\n",
            "235/235 [==============================] - 1s 5ms/step - loss: 0.0822 - val_loss: 0.0818\n",
            "Epoch 79/100\n",
            "235/235 [==============================] - 1s 5ms/step - loss: 0.0822 - val_loss: 0.0819\n",
            "Epoch 80/100\n",
            "235/235 [==============================] - 1s 5ms/step - loss: 0.0821 - val_loss: 0.0820\n",
            "Epoch 81/100\n",
            "235/235 [==============================] - 2s 8ms/step - loss: 0.0821 - val_loss: 0.0819\n",
            "Epoch 82/100\n",
            "235/235 [==============================] - 2s 7ms/step - loss: 0.0820 - val_loss: 0.0817\n",
            "Epoch 83/100\n",
            "235/235 [==============================] - 1s 5ms/step - loss: 0.0820 - val_loss: 0.0819\n",
            "Epoch 84/100\n",
            "235/235 [==============================] - 1s 5ms/step - loss: 0.0820 - val_loss: 0.0819\n",
            "Epoch 85/100\n",
            "235/235 [==============================] - 1s 5ms/step - loss: 0.0819 - val_loss: 0.0815\n",
            "Epoch 86/100\n",
            "235/235 [==============================] - 1s 5ms/step - loss: 0.0819 - val_loss: 0.0817\n",
            "Epoch 87/100\n",
            "235/235 [==============================] - 1s 5ms/step - loss: 0.0818 - val_loss: 0.0818\n",
            "Epoch 88/100\n",
            "235/235 [==============================] - 1s 5ms/step - loss: 0.0818 - val_loss: 0.0816\n",
            "Epoch 89/100\n",
            "235/235 [==============================] - 1s 5ms/step - loss: 0.0817 - val_loss: 0.0816\n",
            "Epoch 90/100\n",
            "235/235 [==============================] - 1s 5ms/step - loss: 0.0817 - val_loss: 0.0815\n",
            "Epoch 91/100\n",
            "235/235 [==============================] - 2s 7ms/step - loss: 0.0817 - val_loss: 0.0814\n",
            "Epoch 92/100\n",
            "235/235 [==============================] - 2s 8ms/step - loss: 0.0816 - val_loss: 0.0817\n",
            "Epoch 93/100\n",
            "235/235 [==============================] - 1s 5ms/step - loss: 0.0816 - val_loss: 0.0817\n",
            "Epoch 94/100\n",
            "235/235 [==============================] - 1s 5ms/step - loss: 0.0816 - val_loss: 0.0816\n",
            "Epoch 95/100\n",
            "235/235 [==============================] - 1s 5ms/step - loss: 0.0816 - val_loss: 0.0813\n",
            "Epoch 96/100\n",
            "235/235 [==============================] - 1s 5ms/step - loss: 0.0815 - val_loss: 0.0813\n",
            "Epoch 97/100\n",
            "235/235 [==============================] - 1s 5ms/step - loss: 0.0815 - val_loss: 0.0814\n",
            "Epoch 98/100\n",
            "235/235 [==============================] - 1s 5ms/step - loss: 0.0815 - val_loss: 0.0815\n",
            "Epoch 99/100\n",
            "235/235 [==============================] - 1s 5ms/step - loss: 0.0814 - val_loss: 0.0813\n",
            "Epoch 100/100\n",
            "235/235 [==============================] - 1s 5ms/step - loss: 0.0814 - val_loss: 0.0813\n"
          ]
        }
      ],
      "source": [
        "autoencoder.compile(optimizer='adam', loss='binary_crossentropy')\n",
        "history = autoencoder.fit(x_train, x_train,\n",
        "                epochs=100,\n",
        "                batch_size=256,\n",
        "                shuffle=True,\n",
        "                validation_data=(x_test, x_test))"
      ]
    },
    {
      "cell_type": "code",
      "execution_count": null,
      "metadata": {
        "colab": {
          "base_uri": "https://localhost:8080/"
        },
        "id": "B6b4mNBlQEH0",
        "outputId": "5c9a35a1-7a56-4031-b859-ff0525f5d3db"
      },
      "outputs": [
        {
          "data": {
            "text/plain": [
              "['loss']"
            ]
          },
          "execution_count": 110,
          "metadata": {},
          "output_type": "execute_result"
        }
      ],
      "source": [
        "autoencoder.metrics_names"
      ]
    },
    {
      "cell_type": "code",
      "execution_count": null,
      "metadata": {
        "colab": {
          "base_uri": "https://localhost:8080/",
          "height": 467
        },
        "id": "T5pqoBuEN1R3",
        "outputId": "1f1da94f-4237-472e-ca42-cbda796ba086"
      },
      "outputs": [
        {
          "data": {
            "text/plain": [
              "<matplotlib.legend.Legend at 0x7a316010b7f0>"
            ]
          },
          "execution_count": 22,
          "metadata": {},
          "output_type": "execute_result"
        },
        {
          "data": {
            "image/png": "[encoded data removed]",
            "text/plain": [
              "<Figure size 640x480 with 1 Axes>"
            ]
          },
          "metadata": {},
          "output_type": "display_data"
        }
      ],
      "source": [
        "historyx=history.history\n",
        "loss=historyx['loss']\n",
        "val_loss=historyx['val_loss']\n",
        "plt.xlabel('Epochs')\n",
        "plt.ylabel('loss')\n",
        "plt.plot(loss)\n",
        "plt.plot(val_loss)\n",
        "plt.legend(['loss','val_loss'])"
      ]
    },
    {
      "cell_type": "markdown",
      "metadata": {
        "id": "CZK3U0_kKOOI"
      },
      "source": [
        "get the output of the decoder from x_test input:"
      ]
    },
    {
      "cell_type": "code",
      "execution_count": null,
      "metadata": {
        "colab": {
          "base_uri": "https://localhost:8080/"
        },
        "id": "-dN7p1LxKOOI",
        "outputId": "e8beef22-3bbb-4f7a-8baf-334aafc4d804"
      },
      "outputs": [
        {
          "name": "stdout",
          "output_type": "stream",
          "text": [
            "313/313 [==============================] - 1s 2ms/step\n",
            "313/313 [==============================] - 1s 1ms/step\n"
          ]
        }
      ],
      "source": [
        "encoded_imgs = encoder.predict(x_test)\n",
        "decoded_imgs = decoder.predict(encoded_imgs)"
      ]
    },
    {
      "cell_type": "markdown",
      "metadata": {
        "id": "kCasEPFzKOOI"
      },
      "source": [
        "display the initial images and their corresponding decoded ones:"
      ]
    },
    {
      "cell_type": "code",
      "execution_count": null,
      "metadata": {
        "colab": {
          "base_uri": "https://localhost:8080/",
          "height": 256
        },
        "id": "YQ2uiezmKOOJ",
        "outputId": "0fe869e8-22b1-4133-ce9c-79d43564b3db"
      },
      "outputs": [
        {
          "data": {
            "image/png": "[encoded data removed]",
            "text/plain": [
              "<Figure size 2000x400 with 20 Axes>"
            ]
          },
          "metadata": {},
          "output_type": "display_data"
        }
      ],
      "source": [
        "n = 10  # How many digits we will display\n",
        "plt.figure(figsize=(20, 4))\n",
        "for i in range(n):\n",
        "    # Display original\n",
        "    ax = plt.subplot(2, n, i + 1)\n",
        "    plt.imshow(x_test[i].reshape(28, 28))\n",
        "    plt.gray()\n",
        "    ax.get_xaxis().set_visible(False)\n",
        "    ax.get_yaxis().set_visible(False)\n",
        "\n",
        "    # Display reconstruction\n",
        "    ax = plt.subplot(2, n, i + 1 + n)\n",
        "    plt.imshow(decoded_imgs[i].reshape(28, 28))\n",
        "    plt.gray()\n",
        "    ax.get_xaxis().set_visible(False)\n",
        "    ax.get_yaxis().set_visible(False)\n",
        "plt.show()"
      ]
    },
    {
      "cell_type": "markdown",
      "metadata": {
        "id": "Kp99ipU8KOOJ"
      },
      "source": [
        "display the images in latent space (output of encoder):"
      ]
    },
    {
      "cell_type": "code",
      "execution_count": null,
      "metadata": {
        "colab": {
          "base_uri": "https://localhost:8080/",
          "height": 228
        },
        "id": "VWZKcI43KOOJ",
        "outputId": "832d4ffa-2d6a-44ba-aae1-19d65255dfc1"
      },
      "outputs": [
        {
          "data": {
            "image/png": "[encoded data removed]",
            "text/plain": [
              "<Figure size 2000x800 with 10 Axes>"
            ]
          },
          "metadata": {},
          "output_type": "display_data"
        }
      ],
      "source": [
        "n = 10\n",
        "plt.figure(figsize=(20, 8))\n",
        "for i in range(1, n + 1):\n",
        "    ax = plt.subplot(1, n, i)\n",
        "    plt.imshow(encoded_imgs[i].reshape((LATENT_SPACE_WIDTH, LATENT_SAPCE_HEIGHT)).T)\n",
        "    plt.gray()\n",
        "    ax.get_xaxis().set_visible(False)\n",
        "    ax.get_yaxis().set_visible(False)\n",
        "plt.show()"
      ]
    },
    {
      "cell_type": "markdown",
      "metadata": {
        "id": "0-U7zg0oKOOJ"
      },
      "source": [
        "apply noise to the dataset:"
      ]
    },
    {
      "cell_type": "code",
      "execution_count": null,
      "metadata": {
        "id": "fJ5yWGRSKOOK"
      },
      "outputs": [],
      "source": [
        "noise_factor = 0.5\n",
        "x_train_noisy = x_train + noise_factor * np.random.normal(loc=0.0, scale=1.0, size=x_train.shape)\n",
        "x_test_noisy = x_test + noise_factor * np.random.normal(loc=0.0, scale=1.0, size=x_test.shape)\n",
        "\n",
        "x_train_noisy = np.clip(x_train_noisy, 0., 1.)\n",
        "x_test_noisy = np.clip(x_test_noisy, 0., 1.)"
      ]
    },
    {
      "cell_type": "markdown",
      "metadata": {
        "id": "rbagEKgdKOOK"
      },
      "source": [
        "display noisy images:"
      ]
    },
    {
      "cell_type": "code",
      "execution_count": null,
      "metadata": {
        "colab": {
          "base_uri": "https://localhost:8080/",
          "height": 130
        },
        "id": "NU0aahBRKOOK",
        "outputId": "736f8a87-9b03-4497-d6be-92136cd82b11"
      },
      "outputs": [
        {
          "data": {
            "image/png": "[encoded data removed]",
            "text/plain": [
              "<Figure size 2000x200 with 10 Axes>"
            ]
          },
          "metadata": {},
          "output_type": "display_data"
        }
      ],
      "source": [
        "n = 10\n",
        "plt.figure(figsize=(20, 2))\n",
        "for i in range(1, n + 1):\n",
        "    ax = plt.subplot(1, n, i)\n",
        "    plt.imshow(x_test_noisy[i].reshape(28, 28))\n",
        "    plt.gray()\n",
        "    ax.get_xaxis().set_visible(False)\n",
        "    ax.get_yaxis().set_visible(False)\n",
        "plt.show()"
      ]
    },
    {
      "cell_type": "markdown",
      "metadata": {
        "id": "ig6-_n-FKOOK"
      },
      "source": [
        "train the model based on noisy input and real target:"
      ]
    },
    {
      "cell_type": "code",
      "execution_count": null,
      "metadata": {
        "colab": {
          "base_uri": "https://localhost:8080/"
        },
        "id": "J3lNPPjJKOOL",
        "outputId": "8154a2e3-a2d7-44e9-af54-1193810d2fed"
      },
      "outputs": [
        {
          "name": "stdout",
          "output_type": "stream",
          "text": [
            "Epoch 1/100\n",
            "469/469 [==============================] - 2s 5ms/step - loss: 0.1492 - val_loss: 0.1280\n",
            "Epoch 2/100\n",
            "469/469 [==============================] - 3s 6ms/step - loss: 0.1253 - val_loss: 0.1222\n",
            "Epoch 3/100\n",
            "469/469 [==============================] - 2s 5ms/step - loss: 0.1217 - val_loss: 0.1204\n",
            "Epoch 4/100\n",
            "469/469 [==============================] - 2s 4ms/step - loss: 0.1202 - val_loss: 0.1198\n",
            "Epoch 5/100\n",
            "469/469 [==============================] - 2s 5ms/step - loss: 0.1194 - val_loss: 0.1190\n",
            "Epoch 6/100\n",
            "469/469 [==============================] - 2s 4ms/step - loss: 0.1187 - val_loss: 0.1192\n",
            "Epoch 7/100\n",
            "469/469 [==============================] - 2s 5ms/step - loss: 0.1183 - val_loss: 0.1181\n",
            "Epoch 8/100\n",
            "469/469 [==============================] - 3s 6ms/step - loss: 0.1178 - val_loss: 0.1175\n",
            "Epoch 9/100\n",
            "469/469 [==============================] - 2s 5ms/step - loss: 0.1174 - val_loss: 0.1176\n",
            "Epoch 10/100\n",
            "469/469 [==============================] - 2s 5ms/step - loss: 0.1171 - val_loss: 0.1177\n",
            "Epoch 11/100\n",
            "469/469 [==============================] - 2s 5ms/step - loss: 0.1167 - val_loss: 0.1169\n",
            "Epoch 12/100\n",
            "469/469 [==============================] - 2s 5ms/step - loss: 0.1166 - val_loss: 0.1164\n",
            "Epoch 13/100\n",
            "469/469 [==============================] - 3s 6ms/step - loss: 0.1162 - val_loss: 0.1161\n",
            "Epoch 14/100\n",
            "469/469 [==============================] - 3s 6ms/step - loss: 0.1159 - val_loss: 0.1159\n",
            "Epoch 15/100\n",
            "469/469 [==============================] - 2s 5ms/step - loss: 0.1157 - val_loss: 0.1168\n",
            "Epoch 16/100\n",
            "469/469 [==============================] - 3s 6ms/step - loss: 0.1155 - val_loss: 0.1160\n",
            "Epoch 17/100\n",
            "469/469 [==============================] - 2s 4ms/step - loss: 0.1152 - val_loss: 0.1151\n",
            "Epoch 18/100\n",
            "469/469 [==============================] - 2s 5ms/step - loss: 0.1149 - val_loss: 0.1162\n",
            "Epoch 19/100\n",
            "469/469 [==============================] - 3s 6ms/step - loss: 0.1148 - val_loss: 0.1153\n",
            "Epoch 20/100\n",
            "469/469 [==============================] - 2s 4ms/step - loss: 0.1145 - val_loss: 0.1151\n",
            "Epoch 21/100\n",
            "469/469 [==============================] - 2s 5ms/step - loss: 0.1143 - val_loss: 0.1148\n",
            "Epoch 22/100\n",
            "469/469 [==============================] - 2s 5ms/step - loss: 0.1141 - val_loss: 0.1150\n",
            "Epoch 23/100\n",
            "469/469 [==============================] - 2s 5ms/step - loss: 0.1140 - val_loss: 0.1148\n",
            "Epoch 24/100\n",
            "469/469 [==============================] - 3s 6ms/step - loss: 0.1138 - val_loss: 0.1148\n",
            "Epoch 25/100\n",
            "469/469 [==============================] - 3s 6ms/step - loss: 0.1137 - val_loss: 0.1152\n",
            "Epoch 26/100\n",
            "469/469 [==============================] - 2s 5ms/step - loss: 0.1136 - val_loss: 0.1147\n",
            "Epoch 27/100\n",
            "469/469 [==============================] - 2s 4ms/step - loss: 0.1135 - val_loss: 0.1146\n",
            "Epoch 28/100\n",
            "469/469 [==============================] - 2s 4ms/step - loss: 0.1133 - val_loss: 0.1144\n",
            "Epoch 29/100\n",
            "469/469 [==============================] - 2s 5ms/step - loss: 0.1131 - val_loss: 0.1145\n",
            "Epoch 30/100\n",
            "469/469 [==============================] - 3s 7ms/step - loss: 0.1130 - val_loss: 0.1141\n",
            "Epoch 31/100\n",
            "469/469 [==============================] - 2s 5ms/step - loss: 0.1129 - val_loss: 0.1141\n",
            "Epoch 32/100\n",
            "469/469 [==============================] - 2s 5ms/step - loss: 0.1128 - val_loss: 0.1146\n",
            "Epoch 33/100\n",
            "469/469 [==============================] - 2s 4ms/step - loss: 0.1127 - val_loss: 0.1142\n",
            "Epoch 34/100\n",
            "469/469 [==============================] - 2s 4ms/step - loss: 0.1126 - val_loss: 0.1142\n",
            "Epoch 35/100\n",
            "469/469 [==============================] - 3s 6ms/step - loss: 0.1125 - val_loss: 0.1141\n",
            "Epoch 36/100\n",
            "469/469 [==============================] - 3s 6ms/step - loss: 0.1124 - val_loss: 0.1142\n",
            "Epoch 37/100\n",
            "469/469 [==============================] - 2s 4ms/step - loss: 0.1123 - val_loss: 0.1139\n",
            "Epoch 38/100\n",
            "469/469 [==============================] - 2s 5ms/step - loss: 0.1122 - val_loss: 0.1138\n",
            "Epoch 39/100\n",
            "469/469 [==============================] - 2s 5ms/step - loss: 0.1121 - val_loss: 0.1140\n",
            "Epoch 40/100\n",
            "469/469 [==============================] - 2s 5ms/step - loss: 0.1121 - val_loss: 0.1137\n",
            "Epoch 41/100\n",
            "469/469 [==============================] - 3s 7ms/step - loss: 0.1119 - val_loss: 0.1135\n",
            "Epoch 42/100\n",
            "469/469 [==============================] - 2s 5ms/step - loss: 0.1118 - val_loss: 0.1141\n",
            "Epoch 43/100\n",
            "469/469 [==============================] - 2s 5ms/step - loss: 0.1118 - val_loss: 0.1137\n",
            "Epoch 44/100\n",
            "469/469 [==============================] - 2s 5ms/step - loss: 0.1117 - val_loss: 0.1141\n",
            "Epoch 45/100\n",
            "469/469 [==============================] - 2s 5ms/step - loss: 0.1116 - val_loss: 0.1139\n",
            "Epoch 46/100\n",
            "469/469 [==============================] - 3s 6ms/step - loss: 0.1115 - val_loss: 0.1134\n",
            "Epoch 47/100\n",
            "469/469 [==============================] - 3s 6ms/step - loss: 0.1114 - val_loss: 0.1135\n",
            "Epoch 48/100\n",
            "469/469 [==============================] - 2s 5ms/step - loss: 0.1113 - val_loss: 0.1136\n",
            "Epoch 49/100\n",
            "469/469 [==============================] - 2s 5ms/step - loss: 0.1113 - val_loss: 0.1144\n",
            "Epoch 50/100\n",
            "469/469 [==============================] - 2s 4ms/step - loss: 0.1113 - val_loss: 0.1133\n",
            "Epoch 51/100\n",
            "469/469 [==============================] - 2s 5ms/step - loss: 0.1112 - val_loss: 0.1134\n",
            "Epoch 52/100\n",
            "469/469 [==============================] - 3s 7ms/step - loss: 0.1110 - val_loss: 0.1136\n",
            "Epoch 53/100\n",
            "469/469 [==============================] - 2s 5ms/step - loss: 0.1110 - val_loss: 0.1134\n",
            "Epoch 54/100\n",
            "469/469 [==============================] - 2s 5ms/step - loss: 0.1109 - val_loss: 0.1131\n",
            "Epoch 55/100\n",
            "469/469 [==============================] - 2s 5ms/step - loss: 0.1108 - val_loss: 0.1133\n",
            "Epoch 56/100\n",
            "469/469 [==============================] - 3s 7ms/step - loss: 0.1108 - val_loss: 0.1133\n",
            "Epoch 57/100\n",
            "469/469 [==============================] - 3s 7ms/step - loss: 0.1107 - val_loss: 0.1132\n",
            "Epoch 58/100\n",
            "469/469 [==============================] - 2s 5ms/step - loss: 0.1106 - val_loss: 0.1133\n",
            "Epoch 59/100\n",
            "469/469 [==============================] - 2s 5ms/step - loss: 0.1106 - val_loss: 0.1129\n",
            "Epoch 60/100\n",
            "469/469 [==============================] - 2s 5ms/step - loss: 0.1106 - val_loss: 0.1130\n",
            "Epoch 61/100\n",
            "469/469 [==============================] - 2s 5ms/step - loss: 0.1105 - val_loss: 0.1129\n",
            "Epoch 62/100\n",
            "469/469 [==============================] - 3s 6ms/step - loss: 0.1104 - val_loss: 0.1131\n",
            "Epoch 63/100\n",
            "469/469 [==============================] - 3s 6ms/step - loss: 0.1104 - val_loss: 0.1129\n",
            "Epoch 64/100\n",
            "469/469 [==============================] - 2s 5ms/step - loss: 0.1103 - val_loss: 0.1127\n",
            "Epoch 65/100\n",
            "469/469 [==============================] - 2s 5ms/step - loss: 0.1103 - val_loss: 0.1128\n",
            "Epoch 66/100\n",
            "469/469 [==============================] - 2s 5ms/step - loss: 0.1102 - val_loss: 0.1133\n",
            "Epoch 67/100\n",
            "469/469 [==============================] - 2s 5ms/step - loss: 0.1102 - val_loss: 0.1131\n",
            "Epoch 68/100\n",
            "469/469 [==============================] - 3s 7ms/step - loss: 0.1102 - val_loss: 0.1126\n",
            "Epoch 69/100\n",
            "469/469 [==============================] - 2s 5ms/step - loss: 0.1101 - val_loss: 0.1128\n",
            "Epoch 70/100\n",
            "469/469 [==============================] - 2s 5ms/step - loss: 0.1101 - val_loss: 0.1133\n",
            "Epoch 71/100\n",
            "469/469 [==============================] - 2s 5ms/step - loss: 0.1100 - val_loss: 0.1130\n",
            "Epoch 72/100\n",
            "469/469 [==============================] - 2s 5ms/step - loss: 0.1099 - val_loss: 0.1129\n",
            "Epoch 73/100\n",
            "469/469 [==============================] - 3s 7ms/step - loss: 0.1099 - val_loss: 0.1129\n",
            "Epoch 74/100\n",
            "469/469 [==============================] - 4s 10ms/step - loss: 0.1099 - val_loss: 0.1131\n",
            "Epoch 75/100\n",
            "469/469 [==============================] - 2s 5ms/step - loss: 0.1098 - val_loss: 0.1131\n",
            "Epoch 76/100\n",
            "469/469 [==============================] - 2s 5ms/step - loss: 0.1098 - val_loss: 0.1126\n",
            "Epoch 77/100\n",
            "469/469 [==============================] - 3s 7ms/step - loss: 0.1098 - val_loss: 0.1126\n",
            "Epoch 78/100\n",
            "469/469 [==============================] - 3s 6ms/step - loss: 0.1096 - val_loss: 0.1125\n",
            "Epoch 79/100\n",
            "469/469 [==============================] - 2s 5ms/step - loss: 0.1096 - val_loss: 0.1127\n",
            "Epoch 80/100\n",
            "469/469 [==============================] - 2s 5ms/step - loss: 0.1095 - val_loss: 0.1128\n",
            "Epoch 81/100\n",
            "469/469 [==============================] - 2s 5ms/step - loss: 0.1095 - val_loss: 0.1127\n",
            "Epoch 82/100\n",
            "469/469 [==============================] - 2s 4ms/step - loss: 0.1095 - val_loss: 0.1124\n",
            "Epoch 83/100\n",
            "469/469 [==============================] - 3s 6ms/step - loss: 0.1095 - val_loss: 0.1125\n",
            "Epoch 84/100\n",
            "469/469 [==============================] - 3s 6ms/step - loss: 0.1093 - val_loss: 0.1126\n",
            "Epoch 85/100\n",
            "469/469 [==============================] - 2s 5ms/step - loss: 0.1094 - val_loss: 0.1124\n",
            "Epoch 86/100\n",
            "469/469 [==============================] - 2s 4ms/step - loss: 0.1092 - val_loss: 0.1124\n",
            "Epoch 87/100\n",
            "469/469 [==============================] - 2s 5ms/step - loss: 0.1093 - val_loss: 0.1123\n",
            "Epoch 88/100\n",
            "469/469 [==============================] - 2s 5ms/step - loss: 0.1092 - val_loss: 0.1125\n",
            "Epoch 89/100\n",
            "469/469 [==============================] - 3s 6ms/step - loss: 0.1092 - val_loss: 0.1125\n",
            "Epoch 90/100\n",
            "469/469 [==============================] - 2s 5ms/step - loss: 0.1091 - val_loss: 0.1126\n",
            "Epoch 91/100\n",
            "469/469 [==============================] - 2s 5ms/step - loss: 0.1091 - val_loss: 0.1125\n",
            "Epoch 92/100\n",
            "469/469 [==============================] - 2s 5ms/step - loss: 0.1090 - val_loss: 0.1130\n",
            "Epoch 93/100\n",
            "469/469 [==============================] - 2s 5ms/step - loss: 0.1091 - val_loss: 0.1126\n",
            "Epoch 94/100\n",
            "469/469 [==============================] - 3s 6ms/step - loss: 0.1089 - val_loss: 0.1126\n",
            "Epoch 95/100\n",
            "469/469 [==============================] - 3s 6ms/step - loss: 0.1089 - val_loss: 0.1122\n",
            "Epoch 96/100\n",
            "469/469 [==============================] - 2s 5ms/step - loss: 0.1088 - val_loss: 0.1121\n",
            "Epoch 97/100\n",
            "469/469 [==============================] - 2s 5ms/step - loss: 0.1089 - val_loss: 0.1128\n",
            "Epoch 98/100\n",
            "469/469 [==============================] - 2s 5ms/step - loss: 0.1089 - val_loss: 0.1125\n",
            "Epoch 99/100\n",
            "469/469 [==============================] - 2s 5ms/step - loss: 0.1088 - val_loss: 0.1125\n",
            "Epoch 100/100\n",
            "469/469 [==============================] - 3s 7ms/step - loss: 0.1088 - val_loss: 0.1124\n"
          ]
        },
        {
          "data": {
            "text/plain": [
              "<keras.src.callbacks.History at 0x7a31882a0af0>"
            ]
          },
          "execution_count": 25,
          "metadata": {},
          "output_type": "execute_result"
        }
      ],
      "source": [
        "autoencoder.fit(x_train_noisy, x_train,\n",
        "                epochs=100,\n",
        "                batch_size=128,\n",
        "                shuffle=True,\n",
        "                validation_data=(x_test_noisy, x_test))"
      ]
    },
    {
      "cell_type": "code",
      "execution_count": null,
      "metadata": {
        "id": "arOfgfTzKOOL"
      },
      "outputs": [],
      "source": [
        "encoder = keras.Model(input_img, encoded)"
      ]
    },
    {
      "cell_type": "code",
      "execution_count": null,
      "metadata": {
        "id": "1XKW7FR0KOOL"
      },
      "outputs": [],
      "source": [
        "encoded_input = keras.Input(shape=(LATENT_SAPCE_DIM,))\n",
        "# Retrieve the last layer of the autoencoder model\n",
        "decoder_layer = autoencoder.layers[-3](encoded_input)\n",
        "decoder_layer = autoencoder.layers[-2](decoder_layer)\n",
        "decoder_layer = autoencoder.layers[-1](decoder_layer)\n",
        "# Create the decoder model\n",
        "decoder = keras.Model(encoded_input, decoder_layer)\n"
      ]
    },
    {
      "cell_type": "code",
      "execution_count": null,
      "metadata": {
        "colab": {
          "base_uri": "https://localhost:8080/"
        },
        "id": "ibAVNuyPKOOL",
        "outputId": "e4c9ce2e-6572-4e0c-da2a-0f0a66a76776"
      },
      "outputs": [
        {
          "name": "stdout",
          "output_type": "stream",
          "text": [
            "313/313 [==============================] - 1s 2ms/step\n",
            "313/313 [==============================] - 0s 1ms/step\n"
          ]
        }
      ],
      "source": [
        "encoded_imgs = encoder.predict(x_test_noisy)\n",
        "decoded_imgs = decoder.predict(encoded_imgs)"
      ]
    },
    {
      "cell_type": "markdown",
      "metadata": {
        "id": "wHbrxQSgKOOL"
      },
      "source": [
        "show the noisy images and their corresponding denoised one using the trained model:"
      ]
    },
    {
      "cell_type": "code",
      "execution_count": null,
      "metadata": {
        "colab": {
          "base_uri": "https://localhost:8080/",
          "height": 256
        },
        "id": "BOK_V6G0KOOL",
        "outputId": "555cfa4d-5cba-4a88-94f3-4008d0b94ceb"
      },
      "outputs": [
        {
          "data": {
            "image/png": "[encoded data removed]",
            "text/plain": [
              "<Figure size 2000x400 with 20 Axes>"
            ]
          },
          "metadata": {},
          "output_type": "display_data"
        }
      ],
      "source": [
        "n = 10  # How many digits we will display\n",
        "plt.figure(figsize=(20, 4))\n",
        "for i in range(n):\n",
        "    # Display original\n",
        "    ax = plt.subplot(2, n, i + 1)\n",
        "    plt.imshow(x_test_noisy[i].reshape(28, 28))\n",
        "    plt.gray()\n",
        "    ax.get_xaxis().set_visible(False)\n",
        "    ax.get_yaxis().set_visible(False)\n",
        "\n",
        "    # Display reconstruction\n",
        "    ax = plt.subplot(2, n, i + 1 + n)\n",
        "    plt.imshow(decoded_imgs[i].reshape(28, 28))\n",
        "    plt.gray()\n",
        "    ax.get_xaxis().set_visible(False)\n",
        "    ax.get_yaxis().set_visible(False)\n",
        "plt.show()"
      ]
    },
    {
      "cell_type": "markdown",
      "metadata": {
        "id": "0S1vHWhRKOOM"
      },
      "source": [
        "save the models:"
      ]
    },
    {
      "cell_type": "code",
      "execution_count": null,
      "metadata": {
        "colab": {
          "base_uri": "https://localhost:8080/"
        },
        "id": "a8hthJENKOOM",
        "outputId": "f6ab1a07-4142-4d0d-9f62-6e79a3bb7273"
      },
      "outputs": [
        {
          "name": "stderr",
          "output_type": "stream",
          "text": [
            "/usr/local/lib/python3.10/dist-packages/keras/src/engine/training.py:3079: UserWarning: You are saving your model as an HDF5 file via `model.save()`. This file format is considered legacy. We recommend using instead the native Keras format, e.g. `model.save('my_model.keras')`.\n",
            "  saving_api.save_model(\n",
            "WARNING:tensorflow:Compiled the loaded model, but the compiled metrics have yet to be built. `model.compile_metrics` will be empty until you train or evaluate the model.\n",
            "WARNING:tensorflow:Compiled the loaded model, but the compiled metrics have yet to be built. `model.compile_metrics` will be empty until you train or evaluate the model.\n"
          ]
        }
      ],
      "source": [
        "autoencoder.save(\"autoencoder.h5\")\n",
        "encoder.save(\"encoder.h5\")\n",
        "decoder.save(\"decoder.h5\")"
      ]
    },
    {
      "cell_type": "markdown",
      "metadata": {
        "id": "FCN2sEGxKOOM"
      },
      "source": [
        "plot histogram of the weights of first layer:"
      ]
    },
    {
      "cell_type": "code",
      "execution_count": null,
      "metadata": {
        "colab": {
          "base_uri": "https://localhost:8080/",
          "height": 564
        },
        "id": "saYlYLYzKOOM",
        "outputId": "9adfe319-e0a5-41dc-d217-5b14998abb5a"
      },
      "outputs": [
        {
          "data": {
            "image/png": "[encoded data removed]",
            "text/plain": [
              "<Figure size 800x600 with 1 Axes>"
            ]
          },
          "metadata": {},
          "output_type": "display_data"
        }
      ],
      "source": [
        "layer_weights = encoder.layers[3].get_weights()\n",
        "\n",
        "# Plot the weight distribution\n",
        "if layer_weights:\n",
        "    weights = layer_weights[0]\n",
        "\n",
        "    plt.figure(figsize=(8, 6))\n",
        "    plt.hist(weights.flatten(), bins=30, alpha=0.5, color='b', label='Weight Distribution')\n",
        "    plt.title(f'Weight Distribution of Layer {3}')\n",
        "    plt.xlabel('Weight Value')\n",
        "    plt.ylabel('Frequency')\n",
        "    plt.legend()\n",
        "    plt.grid(True)\n",
        "    plt.show()"
      ]
    },
    {
      "cell_type": "markdown",
      "metadata": {
        "id": "14tzK-pYKOOM"
      },
      "source": [
        "## Quantization"
      ]
    },
    {
      "cell_type": "markdown",
      "metadata": {
        "id": "DlyH1GilKOON"
      },
      "source": [
        "post quantize input and output to 16 bits width having 14 bits fraction:"
      ]
    },
    {
      "cell_type": "code",
      "execution_count": null,
      "metadata": {
        "id": "XuH7nNMdKOON"
      },
      "outputs": [],
      "source": [
        "x_train2 = fp_quantize(x_train, 17, 14)\n",
        "x_test2 = fp_quantize(x_test, 17, 14)\n",
        "x_train_noisy_2 = fp_quantize(x_train_noisy, 17, 14)\n",
        "x_test_noisy_2 = fp_quantize(x_test_noisy, 17, 14)"
      ]
    },
    {
      "cell_type": "markdown",
      "metadata": {
        "id": "4I2UV1q2KOON"
      },
      "source": [
        "define the quantization model using \"qkeras\" model:"
      ]
    },
    {
      "cell_type": "code",
      "execution_count": null,
      "metadata": {
        "id": "ygcdGx29KOOO"
      },
      "outputs": [],
      "source": [
        "input_img = keras.Input(shape=(x_train2.shape[1],))\n",
        "encoded = QDense(128, kernel_quantizer=quantized_bits(8, 1, alpha=1), bias_quantizer=quantized_bits(8, 1, alpha=1))(input_img)\n",
        "encoded = QActivation(activation=quantized_relu(8, 1))(encoded)\n",
        "encoded = QDense(64, kernel_quantizer=quantized_bits(8, 1, alpha=1), bias_quantizer=quantized_bits(8, 1, alpha=1))(encoded)\n",
        "encoded = QActivation(activation=quantized_relu(8, 1))(encoded)\n",
        "encoded = QDense(LATENT_SAPCE_DIM, kernel_quantizer=quantized_bits(16, 2, alpha=1), bias_quantizer=quantized_bits(16, 2, alpha=1))(encoded)\n",
        "encoded = QActivation(activation=quantized_relu(16, 2))(encoded)\n",
        "\n",
        "decoded = QDense(64, kernel_quantizer=quantized_bits(8, 1, alpha=1), bias_quantizer=quantized_bits(8, 1, alpha=1))(encoded)\n",
        "decoded = QActivation(activation=quantized_relu(8, 1))(decoded)\n",
        "decoded = QDense(128, kernel_quantizer=quantized_bits(8, 1, alpha=1), bias_quantizer=quantized_bits(8, 1, alpha=1))(decoded)\n",
        "decoded = QActivation(activation=quantized_relu(8, 1))(decoded)\n",
        "decoded = QDense(x_train2.shape[1], kernel_quantizer=quantized_bits(16, 2, alpha=1), bias_quantizer=quantized_bits(16, 2, alpha=1), activation='sigmoid')(decoded)\n",
        "\n",
        "qautoencoder = keras.Model(input_img, decoded)"
      ]
    },
    {
      "cell_type": "code",
      "execution_count": null,
      "metadata": {
        "colab": {
          "base_uri": "https://localhost:8080/"
        },
        "id": "Ii3HnBRbU6Pq",
        "outputId": "ca960ca0-1363-4a6d-f5ef-7bb641eac597"
      },
      "outputs": [
        {
          "name": "stdout",
          "output_type": "stream",
          "text": [
            "Model: \"model_5\"\n",
            "_________________________________________________________________\n",
            " Layer (type)                Output Shape              Param #   \n",
            "=================================================================\n",
            " input_4 (InputLayer)        [(None, 784)]             0         \n",
            "                                                                 \n",
            " q_dense (QDense)            (None, 128)               100480    \n",
            "                                                                 \n",
            " q_activation (QActivation)  (None, 128)               0         \n",
            "                                                                 \n",
            " q_dense_1 (QDense)          (None, 64)                8256      \n",
            "                                                                 \n",
            " q_activation_1 (QActivatio  (None, 64)                0         \n",
            " n)                                                              \n",
            "                                                                 \n",
            " q_dense_2 (QDense)          (None, 32)                2080      \n",
            "                                                                 \n",
            " q_activation_2 (QActivatio  (None, 32)                0         \n",
            " n)                                                              \n",
            "                                                                 \n",
            " q_dense_3 (QDense)          (None, 64)                2112      \n",
            "                                                                 \n",
            " q_activation_3 (QActivatio  (None, 64)                0         \n",
            " n)                                                              \n",
            "                                                                 \n",
            " q_dense_4 (QDense)          (None, 128)               8320      \n",
            "                                                                 \n",
            " q_activation_4 (QActivatio  (None, 128)               0         \n",
            " n)                                                              \n",
            "                                                                 \n",
            " q_dense_5 (QDense)          (None, 784)               101136    \n",
            "                                                                 \n",
            "=================================================================\n",
            "Total params: 222384 (868.69 KB)\n",
            "Trainable params: 222384 (868.69 KB)\n",
            "Non-trainable params: 0 (0.00 Byte)\n",
            "_________________________________________________________________\n"
          ]
        }
      ],
      "source": [
        "qautoencoder.summary()"
      ]
    },
    {
      "cell_type": "markdown",
      "metadata": {
        "id": "TVmI-fpeKOOO"
      },
      "source": [
        "train the model (Quantization Aware Training):"
      ]
    },
    {
      "cell_type": "code",
      "execution_count": null,
      "metadata": {
        "colab": {
          "base_uri": "https://localhost:8080/"
        },
        "id": "F3AzQfDpKOOO",
        "outputId": "90f69ca0-d93e-4166-9d34-cb61a1c47807"
      },
      "outputs": [
        {
          "name": "stdout",
          "output_type": "stream",
          "text": [
            "Epoch 1/100\n",
            "235/235 [==============================] - 8s 12ms/step - loss: 0.2866 - val_loss: 0.2249\n",
            "Epoch 2/100\n",
            "235/235 [==============================] - 2s 9ms/step - loss: 0.2083 - val_loss: 0.1928\n",
            "Epoch 3/100\n",
            "235/235 [==============================] - 2s 7ms/step - loss: 0.1853 - val_loss: 0.1784\n",
            "Epoch 4/100\n",
            "235/235 [==============================] - 2s 7ms/step - loss: 0.1755 - val_loss: 0.1707\n",
            "Epoch 5/100\n",
            "235/235 [==============================] - 2s 7ms/step - loss: 0.1687 - val_loss: 0.1643\n",
            "Epoch 6/100\n",
            "235/235 [==============================] - 2s 7ms/step - loss: 0.1632 - val_loss: 0.1610\n",
            "Epoch 7/100\n",
            "235/235 [==============================] - 2s 7ms/step - loss: 0.1600 - val_loss: 0.1575\n",
            "Epoch 8/100\n",
            "235/235 [==============================] - 2s 8ms/step - loss: 0.1575 - val_loss: 0.1556\n",
            "Epoch 9/100\n",
            "235/235 [==============================] - 2s 9ms/step - loss: 0.1555 - val_loss: 0.1536\n",
            "Epoch 10/100\n",
            "235/235 [==============================] - 2s 7ms/step - loss: 0.1536 - val_loss: 0.1517\n",
            "Epoch 11/100\n",
            "235/235 [==============================] - 2s 7ms/step - loss: 0.1521 - val_loss: 0.1511\n",
            "Epoch 12/100\n",
            "235/235 [==============================] - 2s 7ms/step - loss: 0.1503 - val_loss: 0.1505\n",
            "Epoch 13/100\n",
            "235/235 [==============================] - 2s 7ms/step - loss: 0.1488 - val_loss: 0.1481\n",
            "Epoch 14/100\n",
            "235/235 [==============================] - 2s 7ms/step - loss: 0.1471 - val_loss: 0.1461\n",
            "Epoch 15/100\n",
            "235/235 [==============================] - 2s 8ms/step - loss: 0.1459 - val_loss: 0.1450\n",
            "Epoch 16/100\n",
            "235/235 [==============================] - 2s 10ms/step - loss: 0.1449 - val_loss: 0.1456\n",
            "Epoch 17/100\n",
            "235/235 [==============================] - 2s 7ms/step - loss: 0.1437 - val_loss: 0.1447\n",
            "Epoch 18/100\n",
            "235/235 [==============================] - 2s 8ms/step - loss: 0.1429 - val_loss: 0.1422\n",
            "Epoch 19/100\n",
            "235/235 [==============================] - 2s 7ms/step - loss: 0.1417 - val_loss: 0.1421\n",
            "Epoch 20/100\n",
            "235/235 [==============================] - 2s 7ms/step - loss: 0.1407 - val_loss: 0.1402\n",
            "Epoch 21/100\n",
            "235/235 [==============================] - 2s 7ms/step - loss: 0.1401 - val_loss: 0.1414\n",
            "Epoch 22/100\n",
            "235/235 [==============================] - 2s 8ms/step - loss: 0.1392 - val_loss: 0.1402\n",
            "Epoch 23/100\n",
            "235/235 [==============================] - 2s 10ms/step - loss: 0.1385 - val_loss: 0.1389\n",
            "Epoch 24/100\n",
            "235/235 [==============================] - 2s 8ms/step - loss: 0.1381 - val_loss: 0.1390\n",
            "Epoch 25/100\n",
            "235/235 [==============================] - 2s 7ms/step - loss: 0.1372 - val_loss: 0.1370\n",
            "Epoch 26/100\n",
            "235/235 [==============================] - 2s 7ms/step - loss: 0.1363 - val_loss: 0.1381\n",
            "Epoch 27/100\n",
            "235/235 [==============================] - 2s 7ms/step - loss: 0.1358 - val_loss: 0.1365\n",
            "Epoch 28/100\n",
            "235/235 [==============================] - 2s 7ms/step - loss: 0.1352 - val_loss: 0.1358\n",
            "Epoch 29/100\n",
            "235/235 [==============================] - 3s 13ms/step - loss: 0.1346 - val_loss: 0.1349\n",
            "Epoch 30/100\n",
            "235/235 [==============================] - 2s 10ms/step - loss: 0.1344 - val_loss: 0.1352\n",
            "Epoch 31/100\n",
            "235/235 [==============================] - 2s 8ms/step - loss: 0.1342 - val_loss: 0.1351\n",
            "Epoch 32/100\n",
            "235/235 [==============================] - 2s 8ms/step - loss: 0.1335 - val_loss: 0.1352\n",
            "Epoch 33/100\n",
            "235/235 [==============================] - 2s 8ms/step - loss: 0.1331 - val_loss: 0.1354\n",
            "Epoch 34/100\n",
            "235/235 [==============================] - 2s 7ms/step - loss: 0.1323 - val_loss: 0.1359\n",
            "Epoch 35/100\n",
            "235/235 [==============================] - 2s 7ms/step - loss: 0.1320 - val_loss: 0.1339\n",
            "Epoch 36/100\n",
            "235/235 [==============================] - 2s 8ms/step - loss: 0.1318 - val_loss: 0.1349\n",
            "Epoch 37/100\n",
            "235/235 [==============================] - 2s 10ms/step - loss: 0.1316 - val_loss: 0.1336\n",
            "Epoch 38/100\n",
            "235/235 [==============================] - 2s 8ms/step - loss: 0.1312 - val_loss: 0.1322\n",
            "Epoch 39/100\n",
            "235/235 [==============================] - 2s 8ms/step - loss: 0.1310 - val_loss: 0.1343\n",
            "Epoch 40/100\n",
            "235/235 [==============================] - 2s 8ms/step - loss: 0.1306 - val_loss: 0.1329\n",
            "Epoch 41/100\n",
            "235/235 [==============================] - 2s 8ms/step - loss: 0.1303 - val_loss: 0.1316\n",
            "Epoch 42/100\n",
            "235/235 [==============================] - 2s 7ms/step - loss: 0.1297 - val_loss: 0.1333\n",
            "Epoch 43/100\n",
            "235/235 [==============================] - 2s 9ms/step - loss: 0.1294 - val_loss: 0.1316\n",
            "Epoch 44/100\n",
            "235/235 [==============================] - 3s 12ms/step - loss: 0.1294 - val_loss: 0.1322\n",
            "Epoch 45/100\n",
            "235/235 [==============================] - 2s 8ms/step - loss: 0.1291 - val_loss: 0.1328\n",
            "Epoch 46/100\n",
            "235/235 [==============================] - 2s 7ms/step - loss: 0.1289 - val_loss: 0.1306\n",
            "Epoch 47/100\n",
            "235/235 [==============================] - 2s 8ms/step - loss: 0.1286 - val_loss: 0.1317\n",
            "Epoch 48/100\n",
            "235/235 [==============================] - 2s 8ms/step - loss: 0.1284 - val_loss: 0.1309\n",
            "Epoch 49/100\n",
            "235/235 [==============================] - 2s 8ms/step - loss: 0.1282 - val_loss: 0.1310\n",
            "Epoch 50/100\n",
            "235/235 [==============================] - 2s 10ms/step - loss: 0.1282 - val_loss: 0.1293\n",
            "Epoch 51/100\n",
            "235/235 [==============================] - 2s 9ms/step - loss: 0.1280 - val_loss: 0.1313\n",
            "Epoch 52/100\n",
            "235/235 [==============================] - 2s 8ms/step - loss: 0.1275 - val_loss: 0.1305\n",
            "Epoch 53/100\n",
            "235/235 [==============================] - 2s 8ms/step - loss: 0.1273 - val_loss: 0.1304\n",
            "Epoch 54/100\n",
            "235/235 [==============================] - 2s 7ms/step - loss: 0.1274 - val_loss: 0.1290\n",
            "Epoch 55/100\n",
            "235/235 [==============================] - 2s 8ms/step - loss: 0.1271 - val_loss: 0.1299\n",
            "Epoch 56/100\n",
            "235/235 [==============================] - 2s 10ms/step - loss: 0.1268 - val_loss: 0.1291\n",
            "Epoch 57/100\n",
            "235/235 [==============================] - 3s 12ms/step - loss: 0.1267 - val_loss: 0.1297\n",
            "Epoch 58/100\n",
            "235/235 [==============================] - 3s 12ms/step - loss: 0.1265 - val_loss: 0.1293\n",
            "Epoch 59/100\n",
            "235/235 [==============================] - 3s 13ms/step - loss: 0.1267 - val_loss: 0.1282\n",
            "Epoch 60/100\n",
            "235/235 [==============================] - 4s 15ms/step - loss: 0.1262 - val_loss: 0.1306\n",
            "Epoch 61/100\n",
            "235/235 [==============================] - 5s 23ms/step - loss: 0.1265 - val_loss: 0.1297\n",
            "Epoch 62/100\n",
            "235/235 [==============================] - 3s 13ms/step - loss: 0.1260 - val_loss: 0.1306\n",
            "Epoch 63/100\n",
            "235/235 [==============================] - 2s 7ms/step - loss: 0.1261 - val_loss: 0.1300\n",
            "Epoch 64/100\n",
            "235/235 [==============================] - 2s 7ms/step - loss: 0.1262 - val_loss: 0.1295\n",
            "Epoch 65/100\n",
            "235/235 [==============================] - 2s 7ms/step - loss: 0.1255 - val_loss: 0.1280\n",
            "Epoch 66/100\n",
            "235/235 [==============================] - 2s 8ms/step - loss: 0.1256 - val_loss: 0.1297\n",
            "Epoch 67/100\n",
            "235/235 [==============================] - 2s 10ms/step - loss: 0.1255 - val_loss: 0.1286\n",
            "Epoch 68/100\n",
            "235/235 [==============================] - 2s 7ms/step - loss: 0.1253 - val_loss: 0.1277\n",
            "Epoch 69/100\n",
            "235/235 [==============================] - 2s 7ms/step - loss: 0.1252 - val_loss: 0.1297\n",
            "Epoch 70/100\n",
            "235/235 [==============================] - 2s 7ms/step - loss: 0.1249 - val_loss: 0.1281\n",
            "Epoch 71/100\n",
            "235/235 [==============================] - 2s 7ms/step - loss: 0.1247 - val_loss: 0.1304\n",
            "Epoch 72/100\n",
            "235/235 [==============================] - 2s 8ms/step - loss: 0.1247 - val_loss: 0.1269\n",
            "Epoch 73/100\n",
            "235/235 [==============================] - 2s 9ms/step - loss: 0.1247 - val_loss: 0.1291\n",
            "Epoch 74/100\n",
            "235/235 [==============================] - 2s 10ms/step - loss: 0.1243 - val_loss: 0.1265\n",
            "Epoch 75/100\n",
            "235/235 [==============================] - 2s 8ms/step - loss: 0.1242 - val_loss: 0.1279\n",
            "Epoch 76/100\n",
            "235/235 [==============================] - 2s 7ms/step - loss: 0.1241 - val_loss: 0.1276\n",
            "Epoch 77/100\n",
            "235/235 [==============================] - 2s 7ms/step - loss: 0.1239 - val_loss: 0.1272\n",
            "Epoch 78/100\n",
            "235/235 [==============================] - 2s 7ms/step - loss: 0.1238 - val_loss: 0.1276\n",
            "Epoch 79/100\n",
            "235/235 [==============================] - 2s 7ms/step - loss: 0.1238 - val_loss: 0.1267\n",
            "Epoch 80/100\n",
            "235/235 [==============================] - 2s 8ms/step - loss: 0.1236 - val_loss: 0.1267\n",
            "Epoch 81/100\n",
            "235/235 [==============================] - 2s 10ms/step - loss: 0.1235 - val_loss: 0.1282\n",
            "Epoch 82/100\n",
            "235/235 [==============================] - 2s 8ms/step - loss: 0.1237 - val_loss: 0.1273\n",
            "Epoch 83/100\n",
            "235/235 [==============================] - 2s 7ms/step - loss: 0.1237 - val_loss: 0.1259\n",
            "Epoch 84/100\n",
            "235/235 [==============================] - 2s 7ms/step - loss: 0.1233 - val_loss: 0.1268\n",
            "Epoch 85/100\n",
            "235/235 [==============================] - 2s 7ms/step - loss: 0.1235 - val_loss: 0.1266\n",
            "Epoch 86/100\n",
            "235/235 [==============================] - 2s 7ms/step - loss: 0.1230 - val_loss: 0.1269\n",
            "Epoch 87/100\n",
            "235/235 [==============================] - 2s 8ms/step - loss: 0.1232 - val_loss: 0.1259\n",
            "Epoch 88/100\n",
            "235/235 [==============================] - 2s 10ms/step - loss: 0.1231 - val_loss: 0.1273\n",
            "Epoch 89/100\n",
            "235/235 [==============================] - 2s 8ms/step - loss: 0.1230 - val_loss: 0.1256\n",
            "Epoch 90/100\n",
            "235/235 [==============================] - 2s 8ms/step - loss: 0.1228 - val_loss: 0.1257\n",
            "Epoch 91/100\n",
            "235/235 [==============================] - 2s 7ms/step - loss: 0.1231 - val_loss: 0.1257\n",
            "Epoch 92/100\n",
            "235/235 [==============================] - 2s 7ms/step - loss: 0.1227 - val_loss: 0.1260\n",
            "Epoch 93/100\n",
            "235/235 [==============================] - 2s 7ms/step - loss: 0.1225 - val_loss: 0.1279\n",
            "Epoch 94/100\n",
            "235/235 [==============================] - 2s 8ms/step - loss: 0.1227 - val_loss: 0.1259\n",
            "Epoch 95/100\n",
            "235/235 [==============================] - 2s 10ms/step - loss: 0.1228 - val_loss: 0.1263\n",
            "Epoch 96/100\n",
            "235/235 [==============================] - 2s 8ms/step - loss: 0.1226 - val_loss: 0.1271\n",
            "Epoch 97/100\n",
            "235/235 [==============================] - 2s 7ms/step - loss: 0.1225 - val_loss: 0.1268\n",
            "Epoch 98/100\n",
            "235/235 [==============================] - 2s 8ms/step - loss: 0.1230 - val_loss: 0.1255\n",
            "Epoch 99/100\n",
            "235/235 [==============================] - 2s 7ms/step - loss: 0.1226 - val_loss: 0.1265\n",
            "Epoch 100/100\n",
            "235/235 [==============================] - 2s 7ms/step - loss: 0.1223 - val_loss: 0.1264\n"
          ]
        }
      ],
      "source": [
        "qautoencoder.compile(optimizer='adam', loss='binary_crossentropy')\n",
        "history = qautoencoder.fit(x_train_noisy_2, x_train2,\n",
        "                epochs=100,\n",
        "                batch_size=256,\n",
        "                shuffle=True,\n",
        "                validation_data=(x_test_noisy_2, x_test2))"
      ]
    },
    {
      "cell_type": "markdown",
      "metadata": {
        "id": "RHJVGKYfKOOO"
      },
      "source": [
        "define the encoder:"
      ]
    },
    {
      "cell_type": "code",
      "execution_count": null,
      "metadata": {
        "id": "e62tJDv4KOOP"
      },
      "outputs": [],
      "source": [
        "qencoder = keras.Model(input_img, encoded)"
      ]
    },
    {
      "cell_type": "markdown",
      "metadata": {
        "id": "1rSL3xnpKOOP"
      },
      "source": [
        "define the decoder:"
      ]
    },
    {
      "cell_type": "code",
      "execution_count": null,
      "metadata": {
        "id": "fWdm65CDKOOP"
      },
      "outputs": [],
      "source": [
        "encoded_input = keras.Input(shape=(LATENT_SAPCE_DIM,))\n",
        "# Retrieve the last layer of the autoencoder model\n",
        "decoder_layer = qautoencoder.layers[-5](encoded_input)\n",
        "decoder_layer = qautoencoder.layers[-4](decoder_layer)\n",
        "decoder_layer = qautoencoder.layers[-3](decoder_layer)\n",
        "decoder_layer = qautoencoder.layers[-2](decoder_layer)\n",
        "decoder_layer = qautoencoder.layers[-1](decoder_layer)\n",
        "# Create the decoder model\n",
        "qdecoder = keras.Model(encoded_input, decoder_layer)"
      ]
    },
    {
      "cell_type": "markdown",
      "metadata": {
        "id": "9ofcOVM0KOOP"
      },
      "source": [
        "get the outputs of the autoencoder:"
      ]
    },
    {
      "cell_type": "code",
      "execution_count": null,
      "metadata": {
        "colab": {
          "base_uri": "https://localhost:8080/"
        },
        "id": "X5QJWjjYKOOQ",
        "outputId": "49b35953-2b22-4a8a-e5ef-193048f93a90"
      },
      "outputs": [
        {
          "name": "stdout",
          "output_type": "stream",
          "text": [
            "313/313 [==============================] - 1s 2ms/step\n",
            "313/313 [==============================] - 1s 3ms/step\n"
          ]
        }
      ],
      "source": [
        "encoded_imgs = qencoder.predict(x_test_noisy_2)\n",
        "decoded_imgs = qdecoder.predict(encoded_imgs)"
      ]
    },
    {
      "cell_type": "markdown",
      "metadata": {
        "id": "9-uVHnqLKOOQ"
      },
      "source": [
        "display the noisy inputs and their corresponding output using the quantized model:"
      ]
    },
    {
      "cell_type": "code",
      "execution_count": null,
      "metadata": {
        "colab": {
          "base_uri": "https://localhost:8080/",
          "height": 256
        },
        "id": "dZSvWpm2KOOQ",
        "outputId": "09225e74-de80-4400-9ff6-7c563390d132"
      },
      "outputs": [
        {
          "data": {
            "image/png": "[encoded data removed]",
            "text/plain": [
              "<Figure size 2000x400 with 20 Axes>"
            ]
          },
          "metadata": {},
          "output_type": "display_data"
        }
      ],
      "source": [
        "n = 10  # How many digits we will display\n",
        "plt.figure(figsize=(20, 4))\n",
        "for i in range(n):\n",
        "    # Display original\n",
        "    ax = plt.subplot(2, n, i + 1)\n",
        "    plt.imshow(x_test_noisy_2[i].reshape(28, 28))\n",
        "    plt.gray()\n",
        "    ax.get_xaxis().set_visible(False)\n",
        "    ax.get_yaxis().set_visible(False)\n",
        "\n",
        "    # Display reconstruction\n",
        "    ax = plt.subplot(2, n, i + 1 + n)\n",
        "    plt.imshow(decoded_imgs[i].reshape(28, 28))\n",
        "    plt.gray()\n",
        "    ax.get_xaxis().set_visible(False)\n",
        "    ax.get_yaxis().set_visible(False)\n",
        "plt.show()"
      ]
    },
    {
      "cell_type": "markdown",
      "metadata": {
        "id": "WUHqKWX8KOOQ"
      },
      "source": [
        "save the models:"
      ]
    },
    {
      "cell_type": "code",
      "execution_count": null,
      "metadata": {
        "colab": {
          "base_uri": "https://localhost:8080/"
        },
        "id": "ORAIfQdPKOOQ",
        "outputId": "faacf784-3070-40d6-d6b6-2902e70a7b5d"
      },
      "outputs": [
        {
          "name": "stderr",
          "output_type": "stream",
          "text": [
            "/usr/local/lib/python3.10/dist-packages/keras/src/constraints.py:365: UserWarning: The `keras.constraints.serialize()` API should only be used for objects of type `keras.constraints.Constraint`. Found an instance of type <class 'qkeras.quantizers.quantized_bits'>, which may lead to improper serialization.\n",
            "  warnings.warn(\n",
            "WARNING:tensorflow:Compiled the loaded model, but the compiled metrics have yet to be built. `model.compile_metrics` will be empty until you train or evaluate the model.\n",
            "WARNING:tensorflow:Compiled the loaded model, but the compiled metrics have yet to be built. `model.compile_metrics` will be empty until you train or evaluate the model.\n"
          ]
        }
      ],
      "source": [
        "qautoencoder.save(\"qautoencoder.h5\")\n",
        "qencoder.save(\"qencoder.h5\")\n",
        "qdecoder.save(\"qdecoder.h5\")"
      ]
    },
    {
      "cell_type": "code",
      "execution_count": null,
      "metadata": {
        "colab": {
          "base_uri": "https://localhost:8080/"
        },
        "id": "1D8EutIwFUaS",
        "outputId": "5133a08e-17cf-428a-bb6f-175ca0f7a688"
      },
      "outputs": [
        {
          "name": "stdout",
          "output_type": "stream",
          "text": [
            "2683.4609375\n"
          ]
        }
      ],
      "source": [
        " model_size_kb = os.path.getsize(\"/content/qautoencoder.h5\") / 1024.0\n",
        " print(model_size_kb)"
      ]
    },
    {
      "cell_type": "code",
      "execution_count": null,
      "metadata": {
        "colab": {
          "base_uri": "https://localhost:8080/"
        },
        "id": "klRewk1saHn1",
        "outputId": "f5495772-f20c-448d-8c94-5cca6332eb56"
      },
      "outputs": [
        {
          "name": "stderr",
          "output_type": "stream",
          "text": [
            "<ipython-input-41-ac5f08e02d9d>:5: VisibleDeprecationWarning: Creating an ndarray from ragged nested sequences (which is a list-or-tuple of lists-or-tuples-or ndarrays with different lengths or shapes) is deprecated. If you meant to do this, you must specify 'dtype=object' when creating the ndarray.\n",
            "  all_weights_auto_1_x=np.array(all_weights_auto_1)\n"
          ]
        }
      ],
      "source": [
        "all_weights_auto_1 = autoencoder.get_weights();\n",
        "#all_weights_qauto_1 = qautoencoder.get_weights();\n",
        "all_weights_auto_2= [fp_quantize(np.array(w), 9, 7) for w in all_weights_auto_1]\n",
        "#all_weights_qauto_2= [fp_quantize(np.array(w), 9, 7) for w in all_weights1]\n",
        "all_weights_auto_1_x=np.array(all_weights_auto_1)"
      ]
    },
    {
      "cell_type": "code",
      "execution_count": null,
      "metadata": {
        "id": "S87yTyzBIhcQ"
      },
      "outputs": [],
      "source": [
        "np.where(all_weights_auto_1[0] > 0.00002)[0].shape[0];\n",
        "#all_weights_auto_1_x\n",
        "#all_weights_auto_1_x = all_weights_auto_1_x.astype('float32')"
      ]
    },
    {
      "cell_type": "code",
      "execution_count": null,
      "metadata": {
        "id": "7qE9waEBKGI1"
      },
      "outputs": [],
      "source": [
        "c = 0\n",
        "for w in all_weights_auto_1:\n",
        "  print(w)\n",
        "  print(\"---------------------------------\")"
      ]
    },
    {
      "cell_type": "code",
      "execution_count": null,
      "metadata": {
        "id": "yKpfcOWc2yiI"
      },
      "outputs": [],
      "source": [
        "abs_list_1 = [\n",
        "    [\n",
        "        [abs(value) for value in inner_list]  # Innermost loop for the third dimension\n",
        "\n",
        "    for inner_list in all_weights_auto_1  # Outermost loop for the first dimension\n",
        "]]\n",
        "abs_list_2=[\n",
        "    [\n",
        "        [abs(value) for value in inner_list]  # Innermost loop for the third dimension\n",
        "\n",
        "    for inner_list in all_weights_auto_2  # Outermost loop for the first dimension\n",
        "]]"
      ]
    },
    {
      "cell_type": "code",
      "execution_count": null,
      "metadata": {
        "id": "WkAtY4TlLoaA"
      },
      "outputs": [],
      "source": [
        "sumq=0.0\n",
        "sum=0.0\n",
        "for outer_list in abs_list_1:\n",
        "  for inner_list in outer_list:\n",
        "    print(type(inner_list))\n",
        "    sumq+=np.sum(inner_list[:])\n",
        "for outer_list in abs_list_2:\n",
        "  for inner_list in outer_list:\n",
        "    sum+=np.sum(inner_list[:])\n",
        "sum\n",
        "\n",
        "sumq"
      ]
    },
    {
      "cell_type": "code",
      "execution_count": null,
      "metadata": {
        "id": "5ZLJkh-c3Yyl"
      },
      "outputs": [],
      "source": [
        "def layer_weight_cal(layer,pres):\n",
        "  w=layer.get_weights()\n",
        "  '''abs_list_1 = [\n",
        "    [\n",
        "        [abs(value) for value in inner_list]\n",
        "\n",
        "    for inner_list in w\n",
        "  ]]'''\n",
        "  #abs_list_1[0][-1]=np.array(abs_list_1[0][-1])\n",
        "  N=0\n",
        "  for outer_list in w:\n",
        "    for inner_list in outer_list:\n",
        "      if type(inner_list) == np.ndarray:\n",
        "        for weight in inner_list:\n",
        "          N+=1\n",
        "      else :\n",
        "        N+=1\n",
        "\n",
        "\n",
        "  sum=N*(pres)\n",
        "  sum/=1024.0\n",
        "  sum/=8.0\n",
        "  return sum\n"
      ]
    },
    {
      "cell_type": "code",
      "execution_count": null,
      "metadata": {
        "colab": {
          "base_uri": "https://localhost:8080/"
        },
        "id": "7EHeDwjftnhG",
        "outputId": "5e9aef4a-ad73-4b16-ea45-23d3745d5aa3"
      },
      "outputs": [
        {
          "name": "stdout",
          "output_type": "stream",
          "text": [
            "404.765625\n"
          ]
        }
      ],
      "source": [
        "print(layer_weight_cal(autoencoder.layers[1],33))"
      ]
    },
    {
      "cell_type": "code",
      "execution_count": null,
      "metadata": {
        "colab": {
          "base_uri": "https://localhost:8080/"
        },
        "id": "tDQQagU6HgR_",
        "outputId": "537033e6-a976-4944-e53a-699da3a65006"
      },
      "outputs": [
        {
          "name": "stdout",
          "output_type": "stream",
          "text": [
            "Volume of layer 0 of Autoencoder is 0.000000 KBs\n",
            "Volume of layer 1 of Autoencoder is 208.515625 KBs\n",
            "Volume of layer 2 of Autoencoder is 17.132812 KBs\n",
            "Volume of layer 3 of Autoencoder is 4.316406 KBs\n",
            "Volume of layer 4 of Autoencoder is 4.382812 KBs\n",
            "Volume of layer 5 of Autoencoder is 17.265625 KBs\n",
            "Volume of layer 6 of Autoencoder is 209.876953 KBs\n"
          ]
        }
      ],
      "source": [
        "for i in range (len(autoencoder.layers)):\n",
        "  volume=0.0\n",
        "  volume=layer_weight_cal(autoencoder.layers[i],17)\n",
        "  print(\"Volume of layer %d of Autoencoder is %3f KBs\"%(i,volume))"
      ]
    },
    {
      "cell_type": "code",
      "execution_count": null,
      "metadata": {
        "colab": {
          "base_uri": "https://localhost:8080/"
        },
        "id": "a7_QxRHQ_gZE",
        "outputId": "1028becf-ab2a-44ae-c683-2539a03bb232"
      },
      "outputs": [
        {
          "name": "stdout",
          "output_type": "stream",
          "text": [
            "Volume of Autoencoder is 461 KBs\n",
            "Volume of QAutoencoder is 244 KBs\n"
          ]
        }
      ],
      "source": [
        "def Network_weight_cal(network,pres):\n",
        "  sum=0.0\n",
        "  layers=len(network.layers)\n",
        "  for i in range (layers):\n",
        "    temp=0.0\n",
        "    xlayer=network.layers[i]\n",
        "    if xlayer.get_weights()!=[] :\n",
        "      temp=layer_weight_cal(xlayer,pres)\n",
        "    sum+=temp\n",
        "  return sum\n",
        "print(\"Volume of Autoencoder is %d KBs\"%(Network_weight_cal(autoencoder,17)))\n",
        "print(\"Volume of QAutoencoder is %d KBs\"%(Network_weight_cal(qautoencoder,9)))"
      ]
    },
    {
      "cell_type": "markdown",
      "metadata": {
        "id": "1ylE7EZaKOOR"
      },
      "source": [
        "# **Save Weights as Fixed Point**"
      ]
    },
    {
      "cell_type": "code",
      "execution_count": null,
      "metadata": {
        "id": "7Dr0rxdnKOOR"
      },
      "outputs": [],
      "source": [
        "from qkeras.utils import _add_supported_quantized_objects\n",
        "\n",
        "co = {}\n",
        "_add_supported_quantized_objects(co)\n",
        "qencoder = keras.models.load_model('qencoder.h5', custom_objects=co)\n",
        "qencoder.compile(optimizer='adam', loss='mse')"
      ]
    },
    {
      "cell_type": "code",
      "execution_count": null,
      "metadata": {
        "id": "MgZE7mxGKOOR"
      },
      "outputs": [],
      "source": [
        "x_test_noisy_2[0]"
      ]
    },
    {
      "cell_type": "code",
      "execution_count": null,
      "metadata": {
        "id": "VOY8KaE2KOOR"
      },
      "outputs": [],
      "source": [
        "یqencoder.predict(np.array([x_test2[0]]))"
      ]
    },
    {
      "cell_type": "code",
      "execution_count": null,
      "metadata": {
        "id": "MaKfi92RKOOS"
      },
      "outputs": [],
      "source": [
        "WriteFixPToFile(\"input.txt\", x_test2[0], 17, 14)"
      ]
    },
    {
      "cell_type": "code",
      "execution_count": null,
      "metadata": {
        "id": "kEU01PYdKOOS"
      },
      "outputs": [],
      "source": [
        "if not os.path.exists('weights'):\n",
        "    os.mkdir('weights')\n",
        "os.mkdir('Weights_qencoder')\n",
        "os.mkdir('Weights_qdecoder')\n",
        "os.mkdir('Weights_qautoencoder')"
      ]
    },
    {
      "cell_type": "code",
      "execution_count": null,
      "metadata": {
        "id": "oZ6PNnYsKOOS"
      },
      "outputs": [],
      "source": [
        "for i, layer in enumerate(qautoencoder.layers):\n",
        "    weights = layer.get_weights()\n",
        "    if weights and len(weights) > 0:\n",
        "        w_per_neuron = weights[0].shape[0]\n",
        "        w = np.einsum(\"ij->ji\", weights[0]).reshape(-1,)\n",
        "        b = weights[1].reshape(-1,)\n",
        "        separate_weights = [np.concatenate((w[c:c+w_per_neuron], b[int(c/w_per_neuron):int(c/w_per_neuron)+1]), axis=0) for c in range(0, len(w), w_per_neuron)]\n",
        "\n",
        "        width, f = (17, 14) if layer.name == 'last' else (9, 7)\n",
        "        for n, s in enumerate(separate_weights):\n",
        "            WriteFixPToFile(f\"Weights_qautoencoder/layer_{i + 1}_{n + 1}_w.txt\", s, width, f)"
      ]
    },
    {
      "cell_type": "code",
      "execution_count": null,
      "metadata": {
        "id": "LhxUdQHva_cx"
      },
      "outputs": [],
      "source": [
        "import zipfile\n",
        "import os\n",
        "\n",
        "def zip_folder(folder_path, zip_path):\n",
        "    with zipfile.ZipFile(zip_path, 'w', zipfile.ZIP_DEFLATED) as zipf:\n",
        "        for root, dirs, files in os.walk(folder_path):\n",
        "            for file in files:\n",
        "                file_path = os.path.join(root, file)\n",
        "                arcname = os.path.relpath(file_path, folder_path)\n",
        "                zipf.write(file_path, arcname)\n",
        "\n",
        "folder_path = '/content/Weights_qdecoder'\n",
        "zip_path = '/content/Weights_qdecoder_zipped.zip'\n",
        "\n",
        "zip_folder(folder_path, zip_path)"
      ]
    }
  ],
  "metadata": {
    "accelerator": "GPU",
    "colab": {
      "provenance": []
    },
    "kernelspec": {
      "display_name": "Python 3",
      "name": "python3"
    },
    "language_info": {
      "codemirror_mode": {
        "name": "ipython",
        "version": 3
      },
      "file_extension": ".py",
      "mimetype": "text/x-python",
      "name": "python",
      "nbconvert_exporter": "python",
      "pygments_lexer": "ipython3",
      "version": "3.8.17"
    }
  },
  "nbformat": 4,
  "nbformat_minor": 0
}